{
 "cells": [
  {
   "cell_type": "markdown",
   "metadata": {},
   "source": [
    "<h1> Проверка гипотез по увеличению выручки в интернет-магазине - оценить результаты AB теста. </h1>"
   ]
  },
  {
   "cell_type": "markdown",
   "metadata": {},
   "source": [
    "#### Описание проекта\n",
    "\n",
    "Вы - аналитик крупного интернет-магазина. Вместе с отделом маркетинга вы подготовили список гипотез для увеличения выручки.\n",
    "\n",
    "\n",
    "Приоритизируйте гипотезы, запустите A/B-тест и проанализируйте результаты. "
   ]
  },
  {
   "cell_type": "markdown",
   "metadata": {},
   "source": [
    "#### Описание данных\n",
    "\n",
    "Данные для первой части. Файл /datasets/hypothesis.csv.\n",
    "- Hypothesis — краткое описание гипотезы;\n",
    "- Reach — охват пользователей по 10-балльной шкале;\n",
    "- Impact — влияние на пользователей по 10-балльной шкале;\n",
    "- Confidence — уверенность в гипотезе по 10-балльной шкале;\n",
    "- Efforts — затраты ресурсов на проверку гипотезы по 10-балльной шкале. Чем больше значение Efforts, тем дороже проверка гипотезы.\n",
    "\n",
    "Данные для второй части. Файл /datasets/orders.csv.\n",
    "- transactionId — идентификатор заказа;\n",
    "- visitorId — идентификатор пользователя, совершившего заказ;\n",
    "- date — дата, когда был совершён заказ;\n",
    "- revenue — выручка заказа;\n",
    "- group — группа A/B-теста, в которую попал заказ.\n",
    "\n",
    "\n",
    "Файл /datasets/visitors.csv.\n",
    "- date — дата;\n",
    "- group — группа A/B-теста;\n",
    "- visitors — количество пользователей в указанную дату в указанной группе A/B-теста"
   ]
  },
  {
   "cell_type": "markdown",
   "metadata": {
    "id": "r-BO88CnWVwe"
   },
   "source": [
    "### Часть 1. Приоритизация гипотез."
   ]
  },
  {
   "cell_type": "markdown",
   "metadata": {
    "id": "LCZi0P80WVwj"
   },
   "source": [
    "В файле /datasets/hypothesis.csv 9 гипотез по увеличению выручки интернет-магазина с указанными параметрами Reach, Impact, Confidence, Effort.\n",
    "\n",
    "**Задача**\n",
    "\n",
    "Примените фреймворк ICE для приоритизации гипотез. Отсортируйте их по убыванию приоритета.\n",
    "\n",
    "\n",
    "Примените фреймворк RICE для приоритизации гипотез. Отсортируйте их по убыванию приоритета.\n",
    "\n",
    "\n",
    "Укажите, как изменилась приоритизация гипотез при применении RICE вместо ICE. Объясните, почему так произошло."
   ]
  },
  {
   "cell_type": "code",
   "execution_count": 1,
   "metadata": {
    "id": "_vsKinGUWVwk"
   },
   "outputs": [],
   "source": [
    "# импортируем библиотеки, нужные для работы\n",
    "\n",
    "import pandas as pd\n",
    "import scipy.stats as stats\n",
    "import datetime as dt\n",
    "import numpy as np\n",
    "from matplotlib import pyplot as plt \n",
    "import seaborn as sns\n",
    "import os"
   ]
  },
  {
   "cell_type": "code",
   "execution_count": 2,
   "metadata": {},
   "outputs": [],
   "source": [
    "# определим функцию поиска файла в папках Linux и Windows (если тетрадка работает локально)\n",
    "\n",
    "def file_path(name):\n",
    "    # считываем дата-файл с попыткой взять данные локально: 4 попытки для Я-сервера и Windows\n",
    "    # файл должен располагаться рядом с тетрадкой или во вложенном каталоге \"datasets\" \n",
    "\n",
    "    for p in ('/datasets', '', os.path.abspath(\"\"), os.path.abspath(\"\")+'\\\\datasets\\\\'):\n",
    "        pth1 = os.path.join(p, name)\n",
    "        if os.path.exists(pth1):\n",
    "            break # если поиск окончился успехом - рвём цикл досрочно\n",
    "    else:\n",
    "        pth1 = ''\n",
    "        print(f'Файл {name} не был найден. Проверьте имя и убедитесь, что он', \n",
    "              'присутствует в каталоге рядом с тетрадкой или во вложенной папке \"/datasets\"')\n",
    "    print('Чтение данных из:', pth1, '\\n')\n",
    "    return pth1"
   ]
  },
  {
   "cell_type": "code",
   "execution_count": 3,
   "metadata": {},
   "outputs": [
    {
     "name": "stdout",
     "output_type": "stream",
     "text": [
      "Чтение данных из: hypothesis.csv \n",
      "\n",
      "Чтение данных из: orders.csv \n",
      "\n",
      "Чтение данных из: visitors.csv \n",
      "\n"
     ]
    }
   ],
   "source": [
    "# считываем 3 дата-файла \n",
    "name = 'hypothesis.csv'                    # гипотезы    \n",
    "hypothesis = pd.read_csv(file_path(name))  # записываем файл с данными в датафрейм  \n",
    "\n",
    "name = 'orders.csv'                        # покупки    \n",
    "orders = pd.read_csv(file_path(name))      # записываем файл с данными в датафрейм  \n",
    "\n",
    "name = 'visitors.csv'                      # посещения    \n",
    "visitors = pd.read_csv(file_path(name))    # записываем файл с данными в датафрейм  \n",
    "\n",
    "orders['date'] = orders['date'].map(lambda x: dt.datetime.strptime(x, '%Y-%m-%d')) #строки в даты\n",
    "visitors['date'] = visitors['date'].map(lambda x: dt.datetime.strptime(x, '%Y-%m-%d')) #строки в даты  "
   ]
  },
  {
   "cell_type": "code",
   "execution_count": 4,
   "metadata": {},
   "outputs": [
    {
     "data": {
      "text/plain": [
       "(Hypothesis    0\n",
       " Reach         0\n",
       " Impact        0\n",
       " Confidence    0\n",
       " Efforts       0\n",
       " dtype: int64,\n",
       " transactionId    0\n",
       " visitorId        0\n",
       " date             0\n",
       " revenue          0\n",
       " group            0\n",
       " dtype: int64,\n",
       " date        0\n",
       " group       0\n",
       " visitors    0\n",
       " dtype: int64)"
      ]
     },
     "execution_count": 4,
     "metadata": {},
     "output_type": "execute_result"
    }
   ],
   "source": [
    "# проверим наличие пропусков: нули означают, что пропусков нет\n",
    "\n",
    "hypothesis.isna().sum(), orders.isna().sum(), visitors.isna().sum()"
   ]
  },
  {
   "cell_type": "code",
   "execution_count": 5,
   "metadata": {},
   "outputs": [],
   "source": [
    "# если случайно закрались дубликаты - очистим\n",
    "\n",
    "orders.drop_duplicates(inplace=True)\n",
    "visitors.drop_duplicates(inplace=True)"
   ]
  },
  {
   "cell_type": "code",
   "execution_count": 6,
   "metadata": {
    "scrolled": true
   },
   "outputs": [
    {
     "data": {
      "text/html": [
       "<div>\n",
       "<style scoped>\n",
       "    .dataframe tbody tr th:only-of-type {\n",
       "        vertical-align: middle;\n",
       "    }\n",
       "\n",
       "    .dataframe tbody tr th {\n",
       "        vertical-align: top;\n",
       "    }\n",
       "\n",
       "    .dataframe thead th {\n",
       "        text-align: right;\n",
       "    }\n",
       "</style>\n",
       "<table border=\"1\" class=\"dataframe\">\n",
       "  <thead>\n",
       "    <tr style=\"text-align: right;\">\n",
       "      <th></th>\n",
       "      <th>Hypothesis</th>\n",
       "      <th>Reach</th>\n",
       "      <th>Impact</th>\n",
       "      <th>Confidence</th>\n",
       "      <th>Efforts</th>\n",
       "      <th>ICE</th>\n",
       "    </tr>\n",
       "  </thead>\n",
       "  <tbody>\n",
       "    <tr>\n",
       "      <th>8</th>\n",
       "      <td>Запустить акцию, дающую скидку на товар в день рождения</td>\n",
       "      <td>1</td>\n",
       "      <td>9</td>\n",
       "      <td>9</td>\n",
       "      <td>5</td>\n",
       "      <td>16.20</td>\n",
       "    </tr>\n",
       "    <tr>\n",
       "      <th>0</th>\n",
       "      <td>Добавить два новых канала привлечения трафика, что позволит привлекать на 30% больше пользователей</td>\n",
       "      <td>3</td>\n",
       "      <td>10</td>\n",
       "      <td>8</td>\n",
       "      <td>6</td>\n",
       "      <td>13.33</td>\n",
       "    </tr>\n",
       "    <tr>\n",
       "      <th>7</th>\n",
       "      <td>Добавить форму подписки на все основные страницы, чтобы собрать базу клиентов для email-рассылок</td>\n",
       "      <td>10</td>\n",
       "      <td>7</td>\n",
       "      <td>8</td>\n",
       "      <td>5</td>\n",
       "      <td>11.20</td>\n",
       "    </tr>\n",
       "    <tr>\n",
       "      <th>6</th>\n",
       "      <td>Показать на главной странице баннеры с актуальными акциями и распродажами, чтобы увеличить конверсию</td>\n",
       "      <td>5</td>\n",
       "      <td>3</td>\n",
       "      <td>8</td>\n",
       "      <td>3</td>\n",
       "      <td>8.00</td>\n",
       "    </tr>\n",
       "    <tr>\n",
       "      <th>2</th>\n",
       "      <td>Добавить блоки рекомендаций товаров на сайт интернет магазина, чтобы повысить конверсию и средний чек заказа</td>\n",
       "      <td>8</td>\n",
       "      <td>3</td>\n",
       "      <td>7</td>\n",
       "      <td>3</td>\n",
       "      <td>7.00</td>\n",
       "    </tr>\n",
       "    <tr>\n",
       "      <th>1</th>\n",
       "      <td>Запустить собственную службу доставки, что сократит срок доставки заказов</td>\n",
       "      <td>2</td>\n",
       "      <td>5</td>\n",
       "      <td>4</td>\n",
       "      <td>10</td>\n",
       "      <td>2.00</td>\n",
       "    </tr>\n",
       "    <tr>\n",
       "      <th>5</th>\n",
       "      <td>Добавить страницу отзывов клиентов о магазине, что позволит увеличить количество заказов</td>\n",
       "      <td>3</td>\n",
       "      <td>2</td>\n",
       "      <td>2</td>\n",
       "      <td>3</td>\n",
       "      <td>1.33</td>\n",
       "    </tr>\n",
       "    <tr>\n",
       "      <th>3</th>\n",
       "      <td>Изменить структура категорий, что увеличит конверсию, т.к. пользователи быстрее найдут нужный товар</td>\n",
       "      <td>8</td>\n",
       "      <td>3</td>\n",
       "      <td>3</td>\n",
       "      <td>8</td>\n",
       "      <td>1.12</td>\n",
       "    </tr>\n",
       "    <tr>\n",
       "      <th>4</th>\n",
       "      <td>Изменить цвет фона главной страницы, чтобы увеличить вовлеченность пользователей</td>\n",
       "      <td>3</td>\n",
       "      <td>1</td>\n",
       "      <td>1</td>\n",
       "      <td>1</td>\n",
       "      <td>1.00</td>\n",
       "    </tr>\n",
       "  </tbody>\n",
       "</table>\n",
       "</div>"
      ],
      "text/plain": [
       "                                                                                                     Hypothesis  \\\n",
       "8                                                       Запустить акцию, дающую скидку на товар в день рождения   \n",
       "0            Добавить два новых канала привлечения трафика, что позволит привлекать на 30% больше пользователей   \n",
       "7              Добавить форму подписки на все основные страницы, чтобы собрать базу клиентов для email-рассылок   \n",
       "6          Показать на главной странице баннеры с актуальными акциями и распродажами, чтобы увеличить конверсию   \n",
       "2  Добавить блоки рекомендаций товаров на сайт интернет магазина, чтобы повысить конверсию и средний чек заказа   \n",
       "1                                     Запустить собственную службу доставки, что сократит срок доставки заказов   \n",
       "5                      Добавить страницу отзывов клиентов о магазине, что позволит увеличить количество заказов   \n",
       "3           Изменить структура категорий, что увеличит конверсию, т.к. пользователи быстрее найдут нужный товар   \n",
       "4                              Изменить цвет фона главной страницы, чтобы увеличить вовлеченность пользователей   \n",
       "\n",
       "   Reach  Impact  Confidence  Efforts    ICE  \n",
       "8      1       9           9        5  16.20  \n",
       "0      3      10           8        6  13.33  \n",
       "7     10       7           8        5  11.20  \n",
       "6      5       3           8        3   8.00  \n",
       "2      8       3           7        3   7.00  \n",
       "1      2       5           4       10   2.00  \n",
       "5      3       2           2        3   1.33  \n",
       "3      8       3           3        8   1.12  \n",
       "4      3       1           1        1   1.00  "
      ]
     },
     "execution_count": 6,
     "metadata": {},
     "output_type": "execute_result"
    }
   ],
   "source": [
    "# для ICE 3 колонки маркеров подставим в формулу, отсортируем по убыванию приоритетов\n",
    "pd.options.display.max_colwidth = 150 # увеличим ширину полей (для гипотез)\n",
    "\n",
    "hypothesis['ICE'] = round(hypothesis['Impact'] * hypothesis['Confidence'] /\n",
    "                     hypothesis['Efforts'], 2)\n",
    "hypothesis.sort_values(by='ICE', ascending=False)"
   ]
  },
  {
   "cell_type": "code",
   "execution_count": 7,
   "metadata": {},
   "outputs": [
    {
     "data": {
      "text/html": [
       "<div>\n",
       "<style scoped>\n",
       "    .dataframe tbody tr th:only-of-type {\n",
       "        vertical-align: middle;\n",
       "    }\n",
       "\n",
       "    .dataframe tbody tr th {\n",
       "        vertical-align: top;\n",
       "    }\n",
       "\n",
       "    .dataframe thead th {\n",
       "        text-align: right;\n",
       "    }\n",
       "</style>\n",
       "<table border=\"1\" class=\"dataframe\">\n",
       "  <thead>\n",
       "    <tr style=\"text-align: right;\">\n",
       "      <th></th>\n",
       "      <th>Hypothesis</th>\n",
       "      <th>Reach</th>\n",
       "      <th>Impact</th>\n",
       "      <th>Confidence</th>\n",
       "      <th>Efforts</th>\n",
       "      <th>ICE</th>\n",
       "      <th>RICE</th>\n",
       "    </tr>\n",
       "  </thead>\n",
       "  <tbody>\n",
       "    <tr>\n",
       "      <th>7</th>\n",
       "      <td>Добавить форму подписки на все основные страницы, чтобы собрать базу клиентов для email-рассылок</td>\n",
       "      <td>10</td>\n",
       "      <td>7</td>\n",
       "      <td>8</td>\n",
       "      <td>5</td>\n",
       "      <td>11.20</td>\n",
       "      <td>112.0</td>\n",
       "    </tr>\n",
       "    <tr>\n",
       "      <th>2</th>\n",
       "      <td>Добавить блоки рекомендаций товаров на сайт интернет магазина, чтобы повысить конверсию и средний чек заказа</td>\n",
       "      <td>8</td>\n",
       "      <td>3</td>\n",
       "      <td>7</td>\n",
       "      <td>3</td>\n",
       "      <td>7.00</td>\n",
       "      <td>56.0</td>\n",
       "    </tr>\n",
       "    <tr>\n",
       "      <th>0</th>\n",
       "      <td>Добавить два новых канала привлечения трафика, что позволит привлекать на 30% больше пользователей</td>\n",
       "      <td>3</td>\n",
       "      <td>10</td>\n",
       "      <td>8</td>\n",
       "      <td>6</td>\n",
       "      <td>13.33</td>\n",
       "      <td>40.0</td>\n",
       "    </tr>\n",
       "    <tr>\n",
       "      <th>6</th>\n",
       "      <td>Показать на главной странице баннеры с актуальными акциями и распродажами, чтобы увеличить конверсию</td>\n",
       "      <td>5</td>\n",
       "      <td>3</td>\n",
       "      <td>8</td>\n",
       "      <td>3</td>\n",
       "      <td>8.00</td>\n",
       "      <td>40.0</td>\n",
       "    </tr>\n",
       "    <tr>\n",
       "      <th>8</th>\n",
       "      <td>Запустить акцию, дающую скидку на товар в день рождения</td>\n",
       "      <td>1</td>\n",
       "      <td>9</td>\n",
       "      <td>9</td>\n",
       "      <td>5</td>\n",
       "      <td>16.20</td>\n",
       "      <td>16.2</td>\n",
       "    </tr>\n",
       "    <tr>\n",
       "      <th>3</th>\n",
       "      <td>Изменить структура категорий, что увеличит конверсию, т.к. пользователи быстрее найдут нужный товар</td>\n",
       "      <td>8</td>\n",
       "      <td>3</td>\n",
       "      <td>3</td>\n",
       "      <td>8</td>\n",
       "      <td>1.12</td>\n",
       "      <td>9.0</td>\n",
       "    </tr>\n",
       "    <tr>\n",
       "      <th>1</th>\n",
       "      <td>Запустить собственную службу доставки, что сократит срок доставки заказов</td>\n",
       "      <td>2</td>\n",
       "      <td>5</td>\n",
       "      <td>4</td>\n",
       "      <td>10</td>\n",
       "      <td>2.00</td>\n",
       "      <td>4.0</td>\n",
       "    </tr>\n",
       "    <tr>\n",
       "      <th>5</th>\n",
       "      <td>Добавить страницу отзывов клиентов о магазине, что позволит увеличить количество заказов</td>\n",
       "      <td>3</td>\n",
       "      <td>2</td>\n",
       "      <td>2</td>\n",
       "      <td>3</td>\n",
       "      <td>1.33</td>\n",
       "      <td>4.0</td>\n",
       "    </tr>\n",
       "    <tr>\n",
       "      <th>4</th>\n",
       "      <td>Изменить цвет фона главной страницы, чтобы увеличить вовлеченность пользователей</td>\n",
       "      <td>3</td>\n",
       "      <td>1</td>\n",
       "      <td>1</td>\n",
       "      <td>1</td>\n",
       "      <td>1.00</td>\n",
       "      <td>3.0</td>\n",
       "    </tr>\n",
       "  </tbody>\n",
       "</table>\n",
       "</div>"
      ],
      "text/plain": [
       "                                                                                                     Hypothesis  \\\n",
       "7              Добавить форму подписки на все основные страницы, чтобы собрать базу клиентов для email-рассылок   \n",
       "2  Добавить блоки рекомендаций товаров на сайт интернет магазина, чтобы повысить конверсию и средний чек заказа   \n",
       "0            Добавить два новых канала привлечения трафика, что позволит привлекать на 30% больше пользователей   \n",
       "6          Показать на главной странице баннеры с актуальными акциями и распродажами, чтобы увеличить конверсию   \n",
       "8                                                       Запустить акцию, дающую скидку на товар в день рождения   \n",
       "3           Изменить структура категорий, что увеличит конверсию, т.к. пользователи быстрее найдут нужный товар   \n",
       "1                                     Запустить собственную службу доставки, что сократит срок доставки заказов   \n",
       "5                      Добавить страницу отзывов клиентов о магазине, что позволит увеличить количество заказов   \n",
       "4                              Изменить цвет фона главной страницы, чтобы увеличить вовлеченность пользователей   \n",
       "\n",
       "   Reach  Impact  Confidence  Efforts    ICE   RICE  \n",
       "7     10       7           8        5  11.20  112.0  \n",
       "2      8       3           7        3   7.00   56.0  \n",
       "0      3      10           8        6  13.33   40.0  \n",
       "6      5       3           8        3   8.00   40.0  \n",
       "8      1       9           9        5  16.20   16.2  \n",
       "3      8       3           3        8   1.12    9.0  \n",
       "1      2       5           4       10   2.00    4.0  \n",
       "5      3       2           2        3   1.33    4.0  \n",
       "4      3       1           1        1   1.00    3.0  "
      ]
     },
     "execution_count": 7,
     "metadata": {},
     "output_type": "execute_result"
    }
   ],
   "source": [
    "# подставим в формулу 4 колонки маркеров RICE и отсортируем по убыванию приоритетов\n",
    "\n",
    "hypothesis['RICE'] = (hypothesis['Reach'] * hypothesis['Impact'] * \n",
    "                      hypothesis['Confidence'] / hypothesis['Efforts'])\n",
    "hypothesis.sort_values(by='RICE', ascending=False)"
   ]
  },
  {
   "cell_type": "code",
   "execution_count": 8,
   "metadata": {},
   "outputs": [
    {
     "name": "stdout",
     "output_type": "stream",
     "text": [
      "Приоритеты гипотез по  ICE 8 0 7 6 2 1 5 3 4\n",
      "Приоритеты гипотез по RICE 7 2 0 6 8 3 1 5 4\n"
     ]
    }
   ],
   "source": [
    "# сравним ранги гипотез по 2-м методам приоритизации, распечатав их индексы\n",
    "\n",
    "ice = hypothesis.sort_values(by='ICE', ascending=False).index\n",
    "rice = hypothesis.sort_values(by='RICE', ascending=False).index\n",
    "print('Приоритеты гипотез по  ICE', *ice)\n",
    "print('Приоритеты гипотез по RICE', *rice)"
   ]
  },
  {
   "cell_type": "markdown",
   "metadata": {},
   "source": [
    "__Выводы по приоритизации гипотез, n.1.1:__ \n",
    "- RICE приортизация дала почти полностью иной результат по сравнению с методом ICE. Дело в том, что колонка Reach имеет большой разбег (от 1 до 10) для разных гипотез, поэтому после домножения на неё 8 мест переставились, и лишь на 4-м месте осталась гипотеза №6 и на последнем гипотеза №4. Гипотезы №0 и №6 по RICE в приоритете практически равны (делят места 3 и 4)."
   ]
  },
  {
   "cell_type": "markdown",
   "metadata": {},
   "source": [
    "### Часть 2. Анализ A/B-теста"
   ]
  },
  {
   "cell_type": "markdown",
   "metadata": {},
   "source": [
    "Исследуем данные датасета с заказами."
   ]
  },
  {
   "cell_type": "code",
   "execution_count": 9,
   "metadata": {},
   "outputs": [],
   "source": [
    "# для удобства 2 колонки в данных заказов приведём к тем, что даны в коде онлайн-уроков\n",
    "\n",
    "orders.rename(columns={'transactionId': 'orderId', 'visitorId': 'userId'}, inplace=True)"
   ]
  },
  {
   "cell_type": "code",
   "execution_count": 10,
   "metadata": {},
   "outputs": [
    {
     "data": {
      "text/html": [
       "<div>\n",
       "<style scoped>\n",
       "    .dataframe tbody tr th:only-of-type {\n",
       "        vertical-align: middle;\n",
       "    }\n",
       "\n",
       "    .dataframe tbody tr th {\n",
       "        vertical-align: top;\n",
       "    }\n",
       "\n",
       "    .dataframe thead th {\n",
       "        text-align: right;\n",
       "    }\n",
       "</style>\n",
       "<table border=\"1\" class=\"dataframe\">\n",
       "  <thead>\n",
       "    <tr style=\"text-align: right;\">\n",
       "      <th></th>\n",
       "      <th>orderId</th>\n",
       "      <th>userId</th>\n",
       "      <th>date</th>\n",
       "      <th>revenue</th>\n",
       "      <th>group</th>\n",
       "    </tr>\n",
       "  </thead>\n",
       "  <tbody>\n",
       "    <tr>\n",
       "      <th>0</th>\n",
       "      <td>3667963787</td>\n",
       "      <td>3312258926</td>\n",
       "      <td>2019-08-15</td>\n",
       "      <td>1650</td>\n",
       "      <td>B</td>\n",
       "    </tr>\n",
       "    <tr>\n",
       "      <th>1</th>\n",
       "      <td>2804400009</td>\n",
       "      <td>3642806036</td>\n",
       "      <td>2019-08-15</td>\n",
       "      <td>730</td>\n",
       "      <td>B</td>\n",
       "    </tr>\n",
       "    <tr>\n",
       "      <th>2</th>\n",
       "      <td>2961555356</td>\n",
       "      <td>4069496402</td>\n",
       "      <td>2019-08-15</td>\n",
       "      <td>400</td>\n",
       "      <td>A</td>\n",
       "    </tr>\n",
       "    <tr>\n",
       "      <th>3</th>\n",
       "      <td>3797467345</td>\n",
       "      <td>1196621759</td>\n",
       "      <td>2019-08-15</td>\n",
       "      <td>9759</td>\n",
       "      <td>B</td>\n",
       "    </tr>\n",
       "    <tr>\n",
       "      <th>4</th>\n",
       "      <td>2282983706</td>\n",
       "      <td>2322279887</td>\n",
       "      <td>2019-08-15</td>\n",
       "      <td>2308</td>\n",
       "      <td>B</td>\n",
       "    </tr>\n",
       "  </tbody>\n",
       "</table>\n",
       "</div>"
      ],
      "text/plain": [
       "      orderId      userId       date  revenue group\n",
       "0  3667963787  3312258926 2019-08-15     1650     B\n",
       "1  2804400009  3642806036 2019-08-15      730     B\n",
       "2  2961555356  4069496402 2019-08-15      400     A\n",
       "3  3797467345  1196621759 2019-08-15     9759     B\n",
       "4  2282983706  2322279887 2019-08-15     2308     B"
      ]
     },
     "execution_count": 10,
     "metadata": {},
     "output_type": "execute_result"
    }
   ],
   "source": [
    "orders.head() # выведем для наглядности первые 5 строк из датафрейма orders"
   ]
  },
  {
   "cell_type": "code",
   "execution_count": 11,
   "metadata": {},
   "outputs": [
    {
     "data": {
      "text/plain": [
       "(Timestamp('2019-08-01 00:00:00'), Timestamp('2019-08-31 00:00:00'))"
      ]
     },
     "execution_count": 11,
     "metadata": {},
     "output_type": "execute_result"
    }
   ],
   "source": [
    "orders.date.min(), orders.date.max() # отобразим временны́е границы эксперимента"
   ]
  },
  {
   "cell_type": "code",
   "execution_count": 12,
   "metadata": {},
   "outputs": [
    {
     "data": {
      "text/plain": [
       "array(['B', 'A'], dtype=object)"
      ]
     },
     "execution_count": 12,
     "metadata": {},
     "output_type": "execute_result"
    }
   ],
   "source": [
    "orders.group.unique() # группы, участвующие в эксперименте"
   ]
  },
  {
   "cell_type": "code",
   "execution_count": 13,
   "metadata": {},
   "outputs": [
    {
     "data": {
      "text/plain": [
       "(503, 586, 58)"
      ]
     },
     "execution_count": 13,
     "metadata": {},
     "output_type": "execute_result"
    }
   ],
   "source": [
    "set_A = set(orders[orders['group'] == 'A']['userId']) # количество уник. пользователей в группе А\n",
    "set_B = set(orders[orders['group'] == 'B']['userId']) # количество уник. пользователей в группе В\n",
    "cross_AB = set_A & set_B    # пользователи, одновременно попавшие в обе группы (фликеры, кажется?..)     \n",
    "len(set_A), len(set_B), len(cross_AB)  # размеры групп и их пересечение  "
   ]
  },
  {
   "cell_type": "code",
   "execution_count": 14,
   "metadata": {},
   "outputs": [
    {
     "data": {
      "text/plain": [
       "720147"
      ]
     },
     "execution_count": 14,
     "metadata": {},
     "output_type": "execute_result"
    }
   ],
   "source": [
    "orders_A = orders[orders['group'] == 'A']\n",
    "orders_A[orders_A['userId'].isin(cross_AB)]['revenue'].sum() # выручка от раздвоившихся пользователей в гр.А"
   ]
  },
  {
   "cell_type": "code",
   "execution_count": 15,
   "metadata": {},
   "outputs": [
    {
     "data": {
      "text/plain": [
       "838788"
      ]
     },
     "execution_count": 15,
     "metadata": {},
     "output_type": "execute_result"
    }
   ],
   "source": [
    "orders_B = orders[orders['group'] == 'B']\n",
    "orders_B[orders_B['userId'].isin(cross_AB)]['revenue'].sum() # выручка от раздвоившихся пользователей в гр.В"
   ]
  },
  {
   "cell_type": "markdown",
   "metadata": {},
   "source": [
    "__Замечания по экспериментальным данным.__\n",
    "\n",
    "\n",
    "- Какая из списка гипотез была запущена, явным образом в условиях задания не сказано. \n",
    "- Временны́е границы эксперимента с 2019-08-01 по 2019-08-31.\n",
    "- В эксперименте участвуют 2 группы: А и В.\n",
    "- В группе А 503 пользователя, в В - 586, при этом 58ми пользователям \"повезло\" попасть в обе группы.\n",
    "- Выручка от этих раздвоившихся пользователей примерно одинаковая в обеих группах: в А - 720147, в В - 838788.\n",
    "- Какой эксперимент проводился и как \"чисто\" себя вели 58 раздвоившихся пользователей в разных группах, неизвестно. Наиболее разумно в данных обстоятельствах отбросить из списка заказов все записи с участием этих 58 \"раздвоившихся\" пользователей.\n",
    "- Наличие ошибок в базе с заказами означает, что база с визитами тоже скомпрометирована. Ошибки величиной до ±10% (58/586) в счётчиках визитов вероятны. Однако без знания природы ошибки (и её фактического наличия) откорректировать правильным образом базу с визитами после удаления заказов \"раздвоившихся\" пользователей не удастся. Для продолжения работы над проектом будем считать, что мы переговорили с дата-инженерами и согласились, что эти 58 пользователей заходили в систему, но \"ничего не покупали\", а счётчики групп в базе визитов \"работали правильно\". \n",
    "- Число пользователей по группам изначально не 50-на-50 (так сработал алгоритм от дата-инженеров). Далее нужно будет ввести поправочный коэффициент. (Альтернативное решение, которое тут не будем применять - это удалить из группы В 528-445=83 лишних пользователя случайным образом).\n",
    "- Ниже будет продемонстрирована большая доля выручки у \"аномальных\" пользователей от общей выручки. Такая аномалия тоже может служить признаком ошибок в сборе данных."
   ]
  },
  {
   "cell_type": "code",
   "execution_count": 16,
   "metadata": {},
   "outputs": [],
   "source": [
    "orders = orders[~orders['userId'].isin(cross_AB)] # оставляем только \"правильных\" пользователей"
   ]
  },
  {
   "cell_type": "code",
   "execution_count": 17,
   "metadata": {},
   "outputs": [
    {
     "data": {
      "text/plain": [
       "(468, 445)"
      ]
     },
     "execution_count": 17,
     "metadata": {},
     "output_type": "execute_result"
    }
   ],
   "source": [
    "# заказы в группе А и уникальные пользователи после удаления \"неправильных\" покупок\n",
    "\n",
    "orders[orders['group'] == 'A']['userId'].count(), orders[orders['group'] == 'A']['userId'].nunique()"
   ]
  },
  {
   "cell_type": "code",
   "execution_count": 18,
   "metadata": {},
   "outputs": [
    {
     "data": {
      "text/plain": [
       "(548, 528)"
      ]
     },
     "execution_count": 18,
     "metadata": {},
     "output_type": "execute_result"
    }
   ],
   "source": [
    "# заказы в группе В и уникальные пользователи после удаления \"неправильных\" покупок\n",
    "\n",
    "orders[orders['group'] == 'B']['userId'].count(), orders[orders['group'] == 'B']['userId'].nunique()"
   ]
  },
  {
   "cell_type": "code",
   "execution_count": 19,
   "metadata": {},
   "outputs": [
    {
     "data": {
      "text/plain": [
       "1.1865168539325843"
      ]
     },
     "execution_count": 19,
     "metadata": {},
     "output_type": "execute_result"
    }
   ],
   "source": [
    "# выборка В больше выборки А по количеству пользователей в corr раз \n",
    "\n",
    "corr = orders[orders['group'] == 'B']['userId'].nunique() / orders[orders['group'] == 'A']['userId'].nunique()\n",
    "corr"
   ]
  },
  {
   "cell_type": "markdown",
   "metadata": {},
   "source": [
    "Этот коэффициент будем использовать ниже в качестве поправки на разное количество участников групп А и В."
   ]
  },
  {
   "cell_type": "markdown",
   "metadata": {},
   "source": [
    "#### Постройте график кумулятивной выручки по группам. Сделайте выводы и предположения."
   ]
  },
  {
   "cell_type": "code",
   "execution_count": 20,
   "metadata": {},
   "outputs": [],
   "source": [
    "# раздельно для групп A и B сформируем выручку по дням и далее агрегируем по сумме \n",
    "\n",
    "ordersADaily = (\n",
    "    orders[orders['group'] == 'A'][['date', 'orderId', 'userId', 'revenue']]\n",
    "    .groupby('date', as_index=False)\n",
    "    .agg({'orderId': pd.Series.nunique, 'revenue': 'sum'})\n",
    ")\n",
    "ordersADaily.columns = ['date', 'ordersPerDateA', 'revenuePerDateA']\n",
    "\n",
    "ordersACummulative = ordersADaily.apply(    # кумулятивная выручка по группе А\n",
    "    lambda x: ordersADaily[ordersADaily['date'] <= x['date']].agg(\n",
    "        {'date': 'max', 'ordersPerDateA': 'sum', 'revenuePerDateA': 'sum'}\n",
    "    ),\n",
    "    axis=1,\n",
    ").sort_values(by=['date'])\n",
    "ordersACummulative.columns = [\n",
    "    'date',\n",
    "    'ordersCummulativeA',\n",
    "    'revenueCummulativeA',\n",
    "]\n",
    "\n",
    "ordersBDaily = (\n",
    "    orders[orders['group'] == 'B'][['date', 'orderId', 'userId', 'revenue']]\n",
    "    .groupby('date', as_index=False)\n",
    "    .agg({'orderId': pd.Series.nunique, 'revenue': 'sum'})\n",
    ")\n",
    "ordersBDaily.columns = ['date', 'ordersPerDateB', 'revenuePerDateB']\n",
    "\n",
    "ordersBCummulative = ordersBDaily.apply(    # кумулятивная выручка по группе В\n",
    "    lambda x: ordersBDaily[ordersBDaily['date'] <= x['date']].agg(\n",
    "        {'date': 'max', 'ordersPerDateB': 'sum', 'revenuePerDateB': 'sum'}\n",
    "    ),\n",
    "    axis=1,\n",
    ").sort_values(by=['date'])\n",
    "ordersBCummulative.columns = [\n",
    "    'date',\n",
    "    'ordersCummulativeB',\n",
    "    'revenueCummulativeB',\n",
    "]"
   ]
  },
  {
   "cell_type": "code",
   "execution_count": 21,
   "metadata": {},
   "outputs": [
    {
     "data": {
      "text/html": [
       "<div>\n",
       "<style scoped>\n",
       "    .dataframe tbody tr th:only-of-type {\n",
       "        vertical-align: middle;\n",
       "    }\n",
       "\n",
       "    .dataframe tbody tr th {\n",
       "        vertical-align: top;\n",
       "    }\n",
       "\n",
       "    .dataframe thead th {\n",
       "        text-align: right;\n",
       "    }\n",
       "</style>\n",
       "<table border=\"1\" class=\"dataframe\">\n",
       "  <thead>\n",
       "    <tr style=\"text-align: right;\">\n",
       "      <th></th>\n",
       "      <th>date</th>\n",
       "      <th>ordersCummulativeA</th>\n",
       "      <th>revenueCummulativeA</th>\n",
       "    </tr>\n",
       "  </thead>\n",
       "  <tbody>\n",
       "    <tr>\n",
       "      <th>28</th>\n",
       "      <td>2019-08-29</td>\n",
       "      <td>451</td>\n",
       "      <td>3233233</td>\n",
       "    </tr>\n",
       "    <tr>\n",
       "      <th>29</th>\n",
       "      <td>2019-08-30</td>\n",
       "      <td>460</td>\n",
       "      <td>3311413</td>\n",
       "    </tr>\n",
       "    <tr>\n",
       "      <th>30</th>\n",
       "      <td>2019-08-31</td>\n",
       "      <td>468</td>\n",
       "      <td>3364656</td>\n",
       "    </tr>\n",
       "  </tbody>\n",
       "</table>\n",
       "</div>"
      ],
      "text/plain": [
       "         date  ordersCummulativeA  revenueCummulativeA\n",
       "28 2019-08-29                 451              3233233\n",
       "29 2019-08-30                 460              3311413\n",
       "30 2019-08-31                 468              3364656"
      ]
     },
     "execution_count": 21,
     "metadata": {},
     "output_type": "execute_result"
    }
   ],
   "source": [
    "ordersACummulative.tail(3) # для группы А оценим порядок чисел в конце таблицы"
   ]
  },
  {
   "cell_type": "markdown",
   "metadata": {},
   "source": [
    "Ниже мы впервые сделаем поправку на неравенство групп А и В с помощью рассчитанного выше коэффициента corr, далее аналогичные коррекции выполним по необходимости. "
   ]
  },
  {
   "cell_type": "code",
   "execution_count": 22,
   "metadata": {},
   "outputs": [
    {
     "data": {
      "image/png": "[encoded data removed]",
      "text/plain": [
       "<Figure size 1000x400 with 1 Axes>"
      ]
     },
     "metadata": {},
     "output_type": "display_data"
    }
   ],
   "source": [
    "plt.figure(figsize=(10, 4)) # зададим размер полотна\n",
    "\n",
    "# строим график выручки группы А\n",
    "plt.plot(ordersACummulative['date'], ordersACummulative['revenueCummulativeA'], label='A')\n",
    "\n",
    "# строим график выручки группы B\n",
    "plt.plot(ordersBCummulative['date'], ordersBCummulative['revenueCummulativeB']/corr, label='B') # скорректировано corr\n",
    "\n",
    "plt.title('График кумулятивной выручки по группам')\n",
    "plt.ylabel('Выручка,  *10^6')\n",
    "plt.legend() # подписи линий на графике (легенда)\n",
    "plt.xlabel(\"Время прохождения эксперимента\") # подпись выглядит наклонённой\n",
    "plt.xticks(rotation=-10) # для избежания оптических иллюзий от наклона подписей в следующих графиках откажемся\n",
    "plt.grid() # сетка\n",
    "plt.show()"
   ]
  },
  {
   "cell_type": "markdown",
   "metadata": {},
   "source": [
    "__Выводы из графика кумулятивной выручки по группам, n.2.1:__ \n",
    "- Группы В и А очень схожи, с 18 на 19 агуста появляется дополнительный разрыв, причину которого предстоит изучить. Это может быть одна или несколько \"аномальных\" покупок, нужно разбираться (см. п. 2.11)."
   ]
  },
  {
   "cell_type": "markdown",
   "metadata": {},
   "source": [
    "#### Постройте график кумулятивного среднего чека по группам. Сделайте выводы и предположения."
   ]
  },
  {
   "cell_type": "markdown",
   "metadata": {},
   "source": [
    "Здесь поправка на размер группы не требуется, поскольку для группы В надо было бы корректировать и числитель, и знаменатель."
   ]
  },
  {
   "cell_type": "code",
   "execution_count": 23,
   "metadata": {},
   "outputs": [
    {
     "data": {
      "image/png": "[encoded data removed]",
      "text/plain": [
       "<Figure size 1000x400 with 1 Axes>"
      ]
     },
     "metadata": {},
     "output_type": "display_data"
    }
   ],
   "source": [
    "plt.figure(figsize=(10, 4)) # зададим размер полотна\n",
    "plt.plot(ordersACummulative['date'], ordersACummulative['revenueCummulativeA'] /\n",
    "         ordersACummulative['ordersCummulativeA'], label='A')\n",
    "plt.plot(ordersBCummulative['date'], ordersBCummulative['revenueCummulativeB'] /\n",
    "         ordersBCummulative['ordersCummulativeB'], label='B')\n",
    "plt.title('График кумулятивного среднего чека по группам')\n",
    "plt.ylabel('Размер чека')\n",
    "plt.legend() # подписи линий на графике (легенда)\n",
    "plt.xlabel(\"Время прохождения эксперимента\")\n",
    "plt.grid() # сетка\n",
    "plt.show()"
   ]
  },
  {
   "cell_type": "markdown",
   "metadata": {},
   "source": [
    "__Выводы из графика среднего чека по группам, n.2.2:__ \n",
    "- Вначале группа В опережает группу А, затем лидерство непонятно, но с 18 на 19 агуста появляется дополнительный разрыв (его причину предстоит изучить), и он вновь выводит в лидеры группу В. Однако далее средний чек В падает, а средний чек А слегка растёт."
   ]
  },
  {
   "cell_type": "markdown",
   "metadata": {},
   "source": [
    "#### Постройте график относительного изменения кумулятивного среднего чека группы B к группе A. Сделайте выводы и предположения."
   ]
  },
  {
   "cell_type": "markdown",
   "metadata": {},
   "source": [
    "Поправка corr для относительных величин, которые рассчитываются как отношение величины к количеству участников группы, - требоваться не будет."
   ]
  },
  {
   "cell_type": "code",
   "execution_count": 24,
   "metadata": {},
   "outputs": [
    {
     "data": {
      "image/png": "[encoded data removed]",
      "text/plain": [
       "<Figure size 1000x400 with 1 Axes>"
      ]
     },
     "metadata": {},
     "output_type": "display_data"
    }
   ],
   "source": [
    "plt.figure(figsize=(10, 4)) # размер полотна\n",
    "plt.plot(ordersBCummulative['date'], \n",
    "         (ordersBCummulative['revenueCummulativeB']/ordersBCummulative['ordersCummulativeB']) /\n",
    "         (ordersACummulative['revenueCummulativeA']/ordersACummulative['ordersCummulativeA']) - 1)\n",
    "plt.axhline(y=0, color='black', linestyle='--')\n",
    "plt.title('График относительного изменения кумулятивного среднего чека группы B к группе A')\n",
    "plt.ylabel('Чек B, делёный на чек A')\n",
    "plt.xlabel(\"Время прохождения эксперимента\")\n",
    "plt.grid() # сетка\n",
    "plt.show()"
   ]
  },
  {
   "cell_type": "markdown",
   "metadata": {},
   "source": [
    "__Выводы из графика соотношения чеков B и A, n.2.3:__ \n",
    "- В целом группа В выглядит предпочтительнее, она ненадолго уступала группе А только в начале и в середине эксперимента. Но без разбора аномалии 18-19 августа делать окончательные выводы рано."
   ]
  },
  {
   "cell_type": "markdown",
   "metadata": {},
   "source": [
    "#### Постройте график кумулятивного среднего количества заказов на посетителя по группам. Сделайте выводы и предположения."
   ]
  },
  {
   "cell_type": "code",
   "execution_count": 25,
   "metadata": {},
   "outputs": [
    {
     "name": "stdout",
     "output_type": "stream",
     "text": [
      "2019-08-01 00:00:00 2019-08-31 00:00:00\n",
      "2019-08-01 00:00:00 2019-08-31 00:00:00\n"
     ]
    }
   ],
   "source": [
    "# на всякий случай проверим, что границы интервалов дат посещений и заказов совпадают\n",
    "\n",
    "print(visitors.date.min(), visitors.date.max())\n",
    "print(orders.date.min(), orders.date.max())"
   ]
  },
  {
   "cell_type": "code",
   "execution_count": 26,
   "metadata": {},
   "outputs": [
    {
     "data": {
      "text/html": [
       "<div>\n",
       "<style scoped>\n",
       "    .dataframe tbody tr th:only-of-type {\n",
       "        vertical-align: middle;\n",
       "    }\n",
       "\n",
       "    .dataframe tbody tr th {\n",
       "        vertical-align: top;\n",
       "    }\n",
       "\n",
       "    .dataframe thead th {\n",
       "        text-align: right;\n",
       "    }\n",
       "</style>\n",
       "<table border=\"1\" class=\"dataframe\">\n",
       "  <thead>\n",
       "    <tr style=\"text-align: right;\">\n",
       "      <th></th>\n",
       "      <th>date</th>\n",
       "      <th>visitsBcumulative</th>\n",
       "    </tr>\n",
       "  </thead>\n",
       "  <tbody>\n",
       "    <tr>\n",
       "      <th>31</th>\n",
       "      <td>2019-08-01</td>\n",
       "      <td>713</td>\n",
       "    </tr>\n",
       "    <tr>\n",
       "      <th>32</th>\n",
       "      <td>2019-08-02</td>\n",
       "      <td>1294</td>\n",
       "    </tr>\n",
       "  </tbody>\n",
       "</table>\n",
       "</div>"
      ],
      "text/plain": [
       "         date  visitsBcumulative\n",
       "31 2019-08-01                713\n",
       "32 2019-08-02               1294"
      ]
     },
     "execution_count": 26,
     "metadata": {},
     "output_type": "execute_result"
    }
   ],
   "source": [
    "# по аналогии с заказами посчитаем кумулятивные посещения по группам\n",
    "\n",
    "visitorsA = visitors[visitors['group']=='A'][['date','visitors']] # визиты по группе А\n",
    "\n",
    "visitorsAcumulative = visitorsA.apply(    # кумулятивные визиты по группе А\n",
    "    lambda x: visitorsA[visitorsA['date'] <= x['date']].agg(\n",
    "        {'date': 'max', 'visitors': 'sum'}\n",
    "    ), axis=1,\n",
    "    ).sort_values(by=['date'])\n",
    "visitorsAcumulative.columns = ['date','visitsAcumulative']\n",
    "\n",
    "\n",
    "visitorsB = visitors[visitors['group']=='B'][['date','visitors']] # визиты по группе B\n",
    "\n",
    "visitorsBcumulative = visitorsB.apply(    # кумулятивные визиты по группе B\n",
    "    lambda x: visitorsB[visitorsB['date'] <= x['date']].agg(\n",
    "        {'date': 'max', 'visitors': 'sum'}\n",
    "    ), axis=1,\n",
    "    ).sort_values(by=['date'])\n",
    "visitorsBcumulative.columns = ['date','visitsBcumulative']\n",
    "\n",
    "visitorsBcumulative.head(2) # проверим результат, кумулятивные визиты по группе B:"
   ]
  },
  {
   "cell_type": "code",
   "execution_count": 27,
   "metadata": {},
   "outputs": [],
   "source": [
    "# переназовём колонки у двух датафреймов для будущего использования\n",
    "\n",
    "visitorsA.columns=['date','visitorsA']\n",
    "visitorsB.columns=['date','visitorsB']"
   ]
  },
  {
   "cell_type": "code",
   "execution_count": 28,
   "metadata": {},
   "outputs": [
    {
     "data": {
      "text/html": [
       "<div>\n",
       "<style scoped>\n",
       "    .dataframe tbody tr th:only-of-type {\n",
       "        vertical-align: middle;\n",
       "    }\n",
       "\n",
       "    .dataframe tbody tr th {\n",
       "        vertical-align: top;\n",
       "    }\n",
       "\n",
       "    .dataframe thead th {\n",
       "        text-align: right;\n",
       "    }\n",
       "</style>\n",
       "<table border=\"1\" class=\"dataframe\">\n",
       "  <thead>\n",
       "    <tr style=\"text-align: right;\">\n",
       "      <th></th>\n",
       "      <th>date</th>\n",
       "      <th>ordersCummulativeB</th>\n",
       "      <th>revenueCummulativeB</th>\n",
       "      <th>visitsBcumulative</th>\n",
       "    </tr>\n",
       "  </thead>\n",
       "  <tbody>\n",
       "    <tr>\n",
       "      <th>0</th>\n",
       "      <td>2019-08-01</td>\n",
       "      <td>17</td>\n",
       "      <td>59758</td>\n",
       "      <td>713</td>\n",
       "    </tr>\n",
       "    <tr>\n",
       "      <th>1</th>\n",
       "      <td>2019-08-02</td>\n",
       "      <td>40</td>\n",
       "      <td>221801</td>\n",
       "      <td>1294</td>\n",
       "    </tr>\n",
       "  </tbody>\n",
       "</table>\n",
       "</div>"
      ],
      "text/plain": [
       "        date  ordersCummulativeB  revenueCummulativeB  visitsBcumulative\n",
       "0 2019-08-01                  17                59758                713\n",
       "1 2019-08-02                  40               221801               1294"
      ]
     },
     "execution_count": 28,
     "metadata": {},
     "output_type": "execute_result"
    }
   ],
   "source": [
    "ordersAvisistsCum = ordersACummulative.merge(visitorsAcumulative, # соединяем заказы и визиты по группе A\n",
    "                    left_on='date', right_on='date', how='left')\n",
    "\n",
    "ordersBvisistsCum = ordersBCummulative.merge(visitorsBcumulative, # соединяем заказы и визиты по группе B\n",
    "                    left_on='date', right_on='date', how='left')\n",
    "\n",
    "ordersBvisistsCum.head(2)"
   ]
  },
  {
   "cell_type": "code",
   "execution_count": 29,
   "metadata": {
    "scrolled": false
   },
   "outputs": [
    {
     "data": {
      "image/png": "[encoded data removed]",
      "text/plain": [
       "<Figure size 1000x400 with 1 Axes>"
      ]
     },
     "metadata": {},
     "output_type": "display_data"
    }
   ],
   "source": [
    "plt.figure(figsize=(10, 4)) # зададим размер полотна\n",
    "plt.plot(ordersAvisistsCum['date'], 100 * ordersAvisistsCum['ordersCummulativeA']/\n",
    "         ordersAvisistsCum['visitsAcumulative'], label='A')\n",
    "plt.plot(ordersBvisistsCum['date'], 100 * ordersBvisistsCum['ordersCummulativeB']/\n",
    "         ordersBvisistsCum['visitsBcumulative'], label='B')\n",
    "plt.title('График кумулятивного среднего количества заказов на посетителя по группам')\n",
    "plt.ylabel('% посетителей сделали заказы')\n",
    "plt.legend() # подписи линий на графике (легенда)\n",
    "plt.xlabel(\"Время прохождения эксперимента\")\n",
    "plt.grid() # сетка\n",
    "plt.show()"
   ]
  },
  {
   "cell_type": "markdown",
   "metadata": {},
   "source": [
    "__Выводы из графика кумулятивного среднего количества заказов на посетителя, n.2.4:__ \n",
    "- К концу 1-й недели линии групп относительно стабилизировались и преимущество группы В выглядит уверенным (~2.9% для группы В против ~2.5% у группы А)."
   ]
  },
  {
   "cell_type": "markdown",
   "metadata": {},
   "source": [
    "#### Постройте график относительного изменения кумулятивного среднего количества заказов на посетителя группы B к группе A. Сделайте выводы и предположения."
   ]
  },
  {
   "cell_type": "markdown",
   "metadata": {},
   "source": [
    "Точность этого графика вызывает сомнения, так как данные по визитам, которые идут в знаменатель, могут быть с ошибкой до 10%.\n",
    "\n",
    "Делать поправку corr на разную величину групп не будем, предполагая, что и визиты в каждой группе больше или меньше в той же пропорции, что и количество пользователей."
   ]
  },
  {
   "cell_type": "code",
   "execution_count": 30,
   "metadata": {
    "scrolled": false
   },
   "outputs": [
    {
     "data": {
      "image/png": "[encoded data removed]",
      "text/plain": [
       "<Figure size 1000x400 with 1 Axes>"
      ]
     },
     "metadata": {},
     "output_type": "display_data"
    }
   ],
   "source": [
    "plt.figure(figsize=(10, 4)) # размер полотна\n",
    "plt.plot(ordersBvisistsCum['date'], \n",
    "         (ordersBvisistsCum['ordersCummulativeB']/ordersBvisistsCum['visitsBcumulative']) /\n",
    "         (ordersAvisistsCum['ordersCummulativeA']/ordersAvisistsCum['visitsAcumulative'])  - 1)\n",
    "plt.axhline(y=0, color='black', linestyle='--')\n",
    "plt.title('График соотношения кумулятивных заказов на одного посетителя')\n",
    "plt.ylabel('Среднее по В, делёное на среднее по A')\n",
    "plt.xlabel(\"Время прохождения эксперимента\")\n",
    "plt.grid() # сетка\n",
    "plt.show()"
   ]
  },
  {
   "cell_type": "markdown",
   "metadata": {},
   "source": [
    "__Выводы из графика соотношения кумулятивных заказов на посетителя, n.2.5:__ \n",
    "- К концу 1-й недели группа В вышла в лидеры и её преимущество стабилизировалось на уровне ~12%."
   ]
  },
  {
   "cell_type": "markdown",
   "metadata": {},
   "source": [
    "#### Постройте точечный график количества заказов по пользователям. Сделайте выводы и предположения."
   ]
  },
  {
   "cell_type": "code",
   "execution_count": 31,
   "metadata": {},
   "outputs": [
    {
     "data": {
      "text/html": [
       "<div>\n",
       "<style scoped>\n",
       "    .dataframe tbody tr th:only-of-type {\n",
       "        vertical-align: middle;\n",
       "    }\n",
       "\n",
       "    .dataframe tbody tr th {\n",
       "        vertical-align: top;\n",
       "    }\n",
       "\n",
       "    .dataframe thead th {\n",
       "        text-align: right;\n",
       "    }\n",
       "</style>\n",
       "<table border=\"1\" class=\"dataframe\">\n",
       "  <thead>\n",
       "    <tr style=\"text-align: right;\">\n",
       "      <th></th>\n",
       "      <th>userId</th>\n",
       "      <th>orders</th>\n",
       "    </tr>\n",
       "  </thead>\n",
       "  <tbody>\n",
       "    <tr>\n",
       "      <th>908</th>\n",
       "      <td>3967698036</td>\n",
       "      <td>3</td>\n",
       "    </tr>\n",
       "    <tr>\n",
       "      <th>55</th>\n",
       "      <td>249864742</td>\n",
       "      <td>3</td>\n",
       "    </tr>\n",
       "    <tr>\n",
       "      <th>478</th>\n",
       "      <td>2108163459</td>\n",
       "      <td>3</td>\n",
       "    </tr>\n",
       "    <tr>\n",
       "      <th>687</th>\n",
       "      <td>2988190573</td>\n",
       "      <td>3</td>\n",
       "    </tr>\n",
       "    <tr>\n",
       "      <th>890</th>\n",
       "      <td>3908431265</td>\n",
       "      <td>3</td>\n",
       "    </tr>\n",
       "    <tr>\n",
       "      <th>138</th>\n",
       "      <td>611059232</td>\n",
       "      <td>3</td>\n",
       "    </tr>\n",
       "    <tr>\n",
       "      <th>632</th>\n",
       "      <td>2742574263</td>\n",
       "      <td>3</td>\n",
       "    </tr>\n",
       "    <tr>\n",
       "      <th>157</th>\n",
       "      <td>678354126</td>\n",
       "      <td>2</td>\n",
       "    </tr>\n",
       "    <tr>\n",
       "      <th>323</th>\n",
       "      <td>1404560065</td>\n",
       "      <td>2</td>\n",
       "    </tr>\n",
       "    <tr>\n",
       "      <th>452</th>\n",
       "      <td>1985475298</td>\n",
       "      <td>2</td>\n",
       "    </tr>\n",
       "  </tbody>\n",
       "</table>\n",
       "</div>"
      ],
      "text/plain": [
       "         userId  orders\n",
       "908  3967698036       3\n",
       "55    249864742       3\n",
       "478  2108163459       3\n",
       "687  2988190573       3\n",
       "890  3908431265       3\n",
       "138   611059232       3\n",
       "632  2742574263       3\n",
       "157   678354126       2\n",
       "323  1404560065       2\n",
       "452  1985475298       2"
      ]
     },
     "execution_count": 31,
     "metadata": {},
     "output_type": "execute_result"
    }
   ],
   "source": [
    "# сгруппируем заказы по всей базе (А+В), для каждого userId просуммируем заказы\n",
    "\n",
    "ordersByUsers = (orders.groupby('userId', as_index=False)\n",
    "                       .agg({'orderId': 'nunique'}))\n",
    "ordersByUsers.columns = ['userId', 'orders']\n",
    "\n",
    "ordersByUsers.sort_values(by='orders', ascending=False).head(10) # лидеры по количеству заказов"
   ]
  },
  {
   "cell_type": "code",
   "execution_count": 32,
   "metadata": {},
   "outputs": [
    {
     "data": {
      "image/png": "[encoded data removed]",
      "text/plain": [
       "<Figure size 500x300 with 1 Axes>"
      ]
     },
     "metadata": {},
     "output_type": "display_data"
    }
   ],
   "source": [
    "# для графика сформируем ось X - номера пользователей по порядку как в датафрейме\n",
    "\n",
    "plt.figure(figsize=(5, 3)) # размер полотна\n",
    "x_values = range(0, len(ordersByUsers['userId']))\n",
    "plt.scatter(x_values, ordersByUsers['orders'])\n",
    "plt.title('Заказы пользователей, обе группы')\n",
    "plt.ylabel('Заказы');"
   ]
  },
  {
   "cell_type": "markdown",
   "metadata": {},
   "source": [
    "__Выводы из точечного графика заказов пользователей по обеим группам, n.2.6:__ \n",
    "- Чило заказов на пользователя - в основном 1, но есть и 2 и больше, максимально - 11 (пользователей с 6ю, 7ю, 9ю покупками в базе нет, то есть после 5 покупок точно идут аномалии)."
   ]
  },
  {
   "cell_type": "markdown",
   "metadata": {},
   "source": [
    "#### Посчитайте 95-й и 99-й перцентили количества заказов на пользователя. Выберите границу для определения аномальных пользователей."
   ]
  },
  {
   "cell_type": "code",
   "execution_count": 33,
   "metadata": {
    "scrolled": false
   },
   "outputs": [
    {
     "name": "stdout",
     "output_type": "stream",
     "text": [
      " 90% 95% 99% \n",
      " 1.0 1.0 2.0\n"
     ]
    }
   ],
   "source": [
    "print(' 90% 95% 99% \\n', *np.percentile(ordersByUsers['orders'], [90, 95, 99]))"
   ]
  },
  {
   "cell_type": "code",
   "execution_count": 34,
   "metadata": {},
   "outputs": [
    {
     "data": {
      "text/plain": [
       "2.0"
      ]
     },
     "execution_count": 34,
     "metadata": {},
     "output_type": "execute_result"
    }
   ],
   "source": [
    "orders_threshold = np.percentile(ordersByUsers['orders'], 99) # для использования ниже при отсеивании выбросов\n",
    "orders_threshold"
   ]
  },
  {
   "cell_type": "markdown",
   "metadata": {},
   "source": [
    "__Выводы по n.2.7:__ \n",
    "- Аномальными пользователями будем считать тех, у кого более 2-х заказов (3 и более), это примерно 1% от общего числа."
   ]
  },
  {
   "cell_type": "markdown",
   "metadata": {},
   "source": [
    "#### Постройте точечный график стоимостей заказов. Сделайте выводы и предположения."
   ]
  },
  {
   "cell_type": "code",
   "execution_count": 35,
   "metadata": {},
   "outputs": [
    {
     "data": {
      "text/plain": [
       "(1016, 1016)"
      ]
     },
     "execution_count": 35,
     "metadata": {},
     "output_type": "execute_result"
    }
   ],
   "source": [
    "# убедимся, что в базе все заказы уникальны: каждой строке соответствует свой номер заказа\n",
    "\n",
    "orders.shape[0], orders['orderId'].nunique()"
   ]
  },
  {
   "cell_type": "code",
   "execution_count": 36,
   "metadata": {},
   "outputs": [
    {
     "data": {
      "image/png": "[encoded data removed]",
      "text/plain": [
       "<Figure size 1000x300 with 2 Axes>"
      ]
     },
     "metadata": {},
     "output_type": "display_data"
    }
   ],
   "source": [
    "fig = plt.figure(figsize=(10, 3)) # размер полотна для двух графиков\n",
    "fig.tight_layout()\n",
    "ax1 = fig.add_subplot(1,2,1) # сюда войдут все чеки\n",
    "ax2 = fig.add_subplot(1,2,2) # этот график будет для подробностей\n",
    "\n",
    "# для графика сформируем ось X - номера заказов по порядку (как в датафрейме)\n",
    "x_val = range(0, len(orders['userId']))\n",
    "ax1.scatter(x_val, orders['revenue'])\n",
    "ax1.set_title(\"Заказы до 1'200'000\")\n",
    "ax1.set_ylabel('Размер чека')\n",
    "\n",
    "ax2.scatter(x_val, orders['revenue'])\n",
    "ax2.set_ylim(0, 100000) # отсекаем данные более 100000\n",
    "ax2.set_title(\"Заказы до 100'000\");"
   ]
  },
  {
   "cell_type": "markdown",
   "metadata": {},
   "source": [
    "__Выводы по n.2.8:__ \n",
    "- По-настоящему аномальных заказов, видимо, всего 2. Заказы до 100000 распределены более равномерно (см. правый график)."
   ]
  },
  {
   "cell_type": "markdown",
   "metadata": {},
   "source": [
    "#### Посчитайте 95-й и 99-й перцентили стоимости заказов. Выберите границу для определения аномальных заказов."
   ]
  },
  {
   "cell_type": "code",
   "execution_count": 37,
   "metadata": {
    "scrolled": true
   },
   "outputs": [
    {
     "name": "stdout",
     "output_type": "stream",
     "text": [
      " 95%     97%     99% \n",
      " 26785.0 34792.0 53904.0\n"
     ]
    }
   ],
   "source": [
    "print(' 95%     97%     99% \\n', *np.around(np.percentile(orders['revenue'], [95, 97, 99])))"
   ]
  },
  {
   "cell_type": "code",
   "execution_count": 38,
   "metadata": {},
   "outputs": [
    {
     "data": {
      "text/plain": [
       "34791.99999999998"
      ]
     },
     "execution_count": 38,
     "metadata": {},
     "output_type": "execute_result"
    }
   ],
   "source": [
    "value_threshold = np.percentile(orders['revenue'], 97) # для использования ниже при отсеивании выбросов\n",
    "value_threshold"
   ]
  },
  {
   "cell_type": "markdown",
   "metadata": {},
   "source": [
    "__Выводы по n.2.9:__ \n",
    "- Аномальными будем считать заказы с чеком от 34792 (np.percentile(orders['revenue'], 97)), т.е. 3% от общего числа заказов."
   ]
  },
  {
   "cell_type": "markdown",
   "metadata": {},
   "source": [
    "#### Посчитайте статистическую значимость различий в среднем количестве заказов на посетителя между группами по «сырым» данным. Сделайте выводы и предположения."
   ]
  },
  {
   "cell_type": "markdown",
   "metadata": {},
   "source": [
    "Заказы сделали лишь несколько процентов пользователей. Чтобы составить массив для статистического изучения пользователей и их заказов, нужно к имеющимся заказам (т.е. где заказы на пользователя 1 и более) добавить массив из нулей, длина этого массива будет равна количеству пользователей, не сделавших ни одного заказа.\n",
    "\n",
    "Создадим 2 массива (по одному на группу) и изучим их форму и распределение."
   ]
  },
  {
   "cell_type": "code",
   "execution_count": 39,
   "metadata": {},
   "outputs": [],
   "source": [
    "# создадим массивы с заказами >0 по группам \n",
    "\n",
    "ordersByUsersA = (\n",
    "    orders[orders['group'] == 'A']\n",
    "    .groupby('userId', as_index=False)\n",
    "    .agg({'orderId': pd.Series.nunique})\n",
    ")\n",
    "ordersByUsersA.columns = ['userId', 'orders']\n",
    "\n",
    "ordersByUsersB = (\n",
    "    orders[orders['group'] == 'B']\n",
    "    .groupby('userId', as_index=False)\n",
    "    .agg({'orderId': pd.Series.nunique})\n",
    ")\n",
    "ordersByUsersB.columns = ['userId', 'orders']\n",
    "\n",
    "\n",
    "# допишем к массиву заказов нули в количестве=посетители-покупатели \n",
    "\n",
    "sampleA = pd.concat(\n",
    "    [\n",
    "        ordersByUsersA['orders'],\n",
    "        pd.Series(\n",
    "            0,\n",
    "            index=np.arange(\n",
    "                visitorsA['visitorsA'].sum() - len(ordersByUsersA['orders'])\n",
    "            ),\n",
    "            name='orders',\n",
    "        ),\n",
    "    ],\n",
    "    axis=0,\n",
    ")\n",
    "\n",
    "sampleB = pd.concat(\n",
    "    [\n",
    "        ordersByUsersB['orders'],\n",
    "        pd.Series(\n",
    "            0,\n",
    "            index=np.arange(\n",
    "                visitorsB['visitorsB'].sum() - len(ordersByUsersB['orders'])\n",
    "            ),\n",
    "            name='orders',\n",
    "        ),\n",
    "    ],\n",
    "    axis=0,\n",
    ")"
   ]
  },
  {
   "cell_type": "code",
   "execution_count": 40,
   "metadata": {},
   "outputs": [
    {
     "data": {
      "image/png": "[encoded data removed]",
      "text/plain": [
       "<Figure size 300x200 with 1 Axes>"
      ]
     },
     "metadata": {},
     "output_type": "display_data"
    }
   ],
   "source": [
    "# распределение на гистограмме не нормальное и похоже на биномиальное\n",
    "\n",
    "sampleA.hist(figsize=(3,2)); "
   ]
  },
  {
   "cell_type": "markdown",
   "metadata": {},
   "source": [
    "Попытка применить критерий Шапиро-Уилка на нормальность распределения полностью подтверждает факт того, что распределение не нормально (p-value = 0)."
   ]
  },
  {
   "cell_type": "code",
   "execution_count": 41,
   "metadata": {
    "scrolled": true
   },
   "outputs": [
    {
     "name": "stdout",
     "output_type": "stream",
     "text": [
      "p-значение:  0.0\n",
      "Отвергаем нулевую гипотезу: распределение не нормально\n"
     ]
    },
    {
     "name": "stderr",
     "output_type": "stream",
     "text": [
      "C:\\Program Files\\Anaconda3\\lib\\site-packages\\scipy\\stats\\_morestats.py:1800: UserWarning: p-value may not be accurate for N > 5000.\n",
      "  warnings.warn(\"p-value may not be accurate for N > 5000.\")\n"
     ]
    }
   ],
   "source": [
    "alpha = 0.01  # критический уровень статистической значимости\n",
    "\n",
    "results = stats.shapiro(sampleA)\n",
    "p_value = results[1]  # второе значение в массиве результатов (с индексом 1) - p-value\n",
    "\n",
    "print('p-значение: ', p_value)\n",
    "\n",
    "if p_value < alpha:\n",
    "    print('Отвергаем нулевую гипотезу: распределение не нормально')\n",
    "else:\n",
    "    print('Не получилось отвергнуть нулевую гипотезу, всё нормально') "
   ]
  },
  {
   "cell_type": "markdown",
   "metadata": {},
   "source": [
    "Наши две выборки независимые (ранее мы удалили всех пересекающихся пользователей) и распределены не по нормальному закону. Кроме того, в \"сырых\" выборках есть выбросы. Для сравнения таких выборок подходит непараметрический тест Уилкоксона-Манна-Уитни (единственное замечание - этот тест создан для малых выборок, у нас же количество элементов - несколько тысяч). Тест подтверждает либо опровергает нулевую гипотезу о статистическом равенстве двух выборок.\n",
    "\n",
    "- Нулевая гипотеза. H0 : sampleA и sampleB одинаковы\n",
    "- Альтернативная гипотеза. H1 : sampleA и sampleB разные"
   ]
  },
  {
   "cell_type": "code",
   "execution_count": 42,
   "metadata": {
    "scrolled": true
   },
   "outputs": [
    {
     "name": "stdout",
     "output_type": "stream",
     "text": [
      "Различие в среднем количестве заказов: 0.160\n",
      "По тесту Манна-Уитни p-value составил: 0.011\n"
     ]
    }
   ],
   "source": [
    "# выводим различие в количестве заказов у групп, а также p-value по тесту Уилкоксона-Манна-Уитни\n",
    "\n",
    "print('Различие в среднем количестве заказов:', \"{0:.3f}\".format(sampleB.mean() / sampleA.mean() - 1))\n",
    "print('По тесту Манна-Уитни p-value составил:',\"{0:.3f}\".format(stats.mannwhitneyu(sampleA, sampleB)[1]))"
   ]
  },
  {
   "cell_type": "markdown",
   "metadata": {},
   "source": [
    "__Выводы по n.2.10:__ \n",
    "- Относительное различие в среднем количестве заказов: 0.160, то есть по сырым данным заметен прирост заказов на каждого пользователя. Согласно методике теста Манна-Уитни рассчётный p-value составил 0.011, что меньше 5%, но всё же не ниже 1%. Иными словами, уверенность в неслучайности превосходства группы В над группой А есть, но \"могла бы быть и лучше\"."
   ]
  },
  {
   "cell_type": "markdown",
   "metadata": {},
   "source": [
    "#### Посчитайте статистическую значимость различий в среднем чеке заказа между группами по «сырым» данным. Сделайте выводы и предположения."
   ]
  },
  {
   "cell_type": "markdown",
   "metadata": {},
   "source": [
    "Для сравнения выборок используем непараметрический тест Уилкоксона-Манна-Уитни. Тест подтверждает либо опровергает нулевую гипотезу о статистическом равенстве двух выборок.\n",
    "\n",
    "- Нулевая гипотеза. H0 : выборки одинаковы\n",
    "- Альтернативная гипотеза. H1 : выборки разные"
   ]
  },
  {
   "cell_type": "code",
   "execution_count": 43,
   "metadata": {
    "scrolled": true
   },
   "outputs": [
    {
     "name": "stdout",
     "output_type": "stream",
     "text": [
      "Различие в среднем чеке: 0.287\n",
      "P-value по тесту Манна-Уитни: 0.829\n"
     ]
    }
   ],
   "source": [
    "# здесь также позаимствуем код из онлайн-урока \"Анализ A/B-теста шаг за шагом\", Задача 2.\n",
    "\n",
    "print('Различие в среднем чеке:','{0:.3f}'.format(orders[orders['group']=='B']['revenue'].mean()/\n",
    "                       orders[orders['group']=='A']['revenue'].mean()-1))\n",
    "print('P-value по тесту Манна-Уитни:','{0:.3f}'.format(stats.mannwhitneyu(orders[orders['group']=='A']['revenue'], \n",
    "                                          orders[orders['group']=='B']['revenue'])[1]))"
   ]
  },
  {
   "cell_type": "markdown",
   "metadata": {},
   "source": [
    "__Выводы по n.2.11:__ \n",
    "- Группа В по среднему чеку опередила группу А на ~29%. Но ещё в п.2.1 был обнаружен скачок по выручке в группе В за 19 августа. И действительно, тест Манна-Уитни говорит, что выборки почти идентичны, p-value около 83%. Желательно отсеять выбросы и проверить результаты для очищенных данных."
   ]
  },
  {
   "cell_type": "markdown",
   "metadata": {},
   "source": [
    "#### Посчитайте статистическую значимость различий в среднем количестве заказов на посетителя между группами по «очищенным» данным. Сделайте выводы и предположения."
   ]
  },
  {
   "cell_type": "code",
   "execution_count": 44,
   "metadata": {},
   "outputs": [
    {
     "name": "stdout",
     "output_type": "stream",
     "text": [
      "1099    148427295\n",
      "33      249864742\n",
      "684     358944393\n",
      "648     382846391\n",
      "58      611059232\n",
      "Name: userId, dtype: int64 \n",
      "\n",
      "Аномальные покупатели:          38       Всего покупателей:        973 \n",
      "Выручка аномальных покупателей: 5295869  Выручка всех покупателей: 8433628 \n",
      "\n",
      "Доля выручки аномальных среди всех покупателей: 63 %\n"
     ]
    }
   ],
   "source": [
    "# по аналогии с Задачей 3 отфильтруем \"аномальных\" пользователей (orders_threshold порог  \n",
    "# для количества заказов и value_threshold цена одного заказа - посчитаны ранее)\n",
    "\n",
    "usersWithManyOrders = pd.concat(\n",
    "    [\n",
    "        ordersByUsersA[ordersByUsersA['orders'] > orders_threshold]['userId'],\n",
    "        ordersByUsersB[ordersByUsersB['orders'] > orders_threshold]['userId'],\n",
    "    ],\n",
    "    axis=0,\n",
    ")\n",
    "usersWithExpensiveOrders = orders[orders['revenue'] > value_threshold]['userId']\n",
    "abnormalUsers = (\n",
    "    pd.concat([usersWithManyOrders, usersWithExpensiveOrders], axis=0)\n",
    "    .drop_duplicates()\n",
    "    .sort_values()\n",
    ")\n",
    "\n",
    "# выведем первые 5 аномальных пользователей, их количество и число всех пользователей изначально\n",
    "\n",
    "print(abnormalUsers.head(5), '\\n\\nАномальные покупатели:         ', abnormalUsers.shape[0], \n",
    "     '      Всего покупателей:       ', orders['userId'].nunique(),\n",
    "     '\\nВыручка аномальных покупателей:', \n",
    "     orders[np.logical_not(orders['userId'].isin(abnormalUsers))]['revenue'].sum(), # выручка от аномальных\n",
    "     ' Выручка всех покупателей:', orders['revenue'].sum(),\n",
    "     '\\n\\nДоля выручки аномальных среди всех покупателей:',\n",
    "     round(100*orders[np.logical_not(orders['userId'].isin(abnormalUsers))]['revenue'].sum()/orders.revenue.sum()),'%'\n",
    "     )"
   ]
  },
  {
   "cell_type": "markdown",
   "metadata": {},
   "source": [
    "Количество аномальных покупателей ~4%, но выручка от них 63% общей выручки. Это говорит о какой-то ошибке. \n",
    "\n",
    "Нужно будет проконсультироваться с дата-инженерами на предмет возможной ошибки сбора данных и передать маркетологам ID отсеянных в данном тесте пользователей (сериес abnormalUsers). Для демонстрации контраста выведем 5 аномальных пользователей с их выручкой, а также медианную выручку по всей базе. Средний пользователь тратит 8300, а лидер аномальных покупателей - более миллиона(!)."
   ]
  },
  {
   "cell_type": "code",
   "execution_count": 45,
   "metadata": {},
   "outputs": [
    {
     "data": {
      "text/plain": [
       "8301"
      ]
     },
     "execution_count": 45,
     "metadata": {},
     "output_type": "execute_result"
    }
   ],
   "source": [
    "round(orders['revenue'].mean())  # медианная выручка по всей базе"
   ]
  },
  {
   "cell_type": "code",
   "execution_count": 46,
   "metadata": {},
   "outputs": [
    {
     "data": {
      "text/html": [
       "<div>\n",
       "<style scoped>\n",
       "    .dataframe tbody tr th:only-of-type {\n",
       "        vertical-align: middle;\n",
       "    }\n",
       "\n",
       "    .dataframe tbody tr th {\n",
       "        vertical-align: top;\n",
       "    }\n",
       "\n",
       "    .dataframe thead th {\n",
       "        text-align: right;\n",
       "    }\n",
       "</style>\n",
       "<table border=\"1\" class=\"dataframe\">\n",
       "  <thead>\n",
       "    <tr style=\"text-align: right;\">\n",
       "      <th></th>\n",
       "      <th>revenue</th>\n",
       "    </tr>\n",
       "    <tr>\n",
       "      <th>userId</th>\n",
       "      <th></th>\n",
       "    </tr>\n",
       "  </thead>\n",
       "  <tbody>\n",
       "    <tr>\n",
       "      <th>1920142716</th>\n",
       "      <td>1294500</td>\n",
       "    </tr>\n",
       "    <tr>\n",
       "      <th>2108080724</th>\n",
       "      <td>202740</td>\n",
       "    </tr>\n",
       "    <tr>\n",
       "      <th>1307669133</th>\n",
       "      <td>92550</td>\n",
       "    </tr>\n",
       "    <tr>\n",
       "      <th>888512513</th>\n",
       "      <td>86620</td>\n",
       "    </tr>\n",
       "    <tr>\n",
       "      <th>759473111</th>\n",
       "      <td>72000</td>\n",
       "    </tr>\n",
       "  </tbody>\n",
       "</table>\n",
       "</div>"
      ],
      "text/plain": [
       "            revenue\n",
       "userId             \n",
       "1920142716  1294500\n",
       "2108080724   202740\n",
       "1307669133    92550\n",
       "888512513     86620\n",
       "759473111     72000"
      ]
     },
     "execution_count": 46,
     "metadata": {},
     "output_type": "execute_result"
    }
   ],
   "source": [
    "(orders[orders['userId']   # выручка по 5 наиболее аномальным пользователям\n",
    " .isin(abnormalUsers)][['userId', 'revenue']]\n",
    " .groupby('userId')\n",
    " .sum()\n",
    " .sort_values(by='revenue', ascending=False)\n",
    " .head())"
   ]
  },
  {
   "cell_type": "markdown",
   "metadata": {},
   "source": [
    "Вернёмся к заданию 2.12. Для сравнения выборок используем непараметрический тест Уилкоксона-Манна-Уитни. Тест подтверждает либо опровергает нулевую гипотезу о статистическом равенстве двух выборок.\n",
    "\n",
    "- Нулевая гипотеза. H0 : очищенные выборки одинаковы\n",
    "- Альтернативная гипотеза. H1 : очищенные выборки разные"
   ]
  },
  {
   "cell_type": "code",
   "execution_count": 47,
   "metadata": {},
   "outputs": [
    {
     "name": "stdout",
     "output_type": "stream",
     "text": [
      "Различие в среднем количестве заказов (до фильтрации): 0.160\n",
      "По тесту Манна-Уитни p-value составил (до фильтрации): 0.011\n",
      "Различие в среднем количестве заказов (с фильтрацией): 0.197\n",
      "По тесту Манна-Уитни p-value составил (с фильтрацией): 0.006\n"
     ]
    }
   ],
   "source": [
    "# отсеяв аномальных покупателей с их огромной выручкой, по аналогии с Задачей 4 рассчитаем необходимые данные\n",
    "\n",
    "sampleAFiltered = pd.concat(\n",
    "    [\n",
    "        ordersByUsersA[\n",
    "            np.logical_not(ordersByUsersA['userId'].isin(abnormalUsers))\n",
    "        ]['orders'],\n",
    "        pd.Series(\n",
    "            0,\n",
    "            index=np.arange(\n",
    "                visitorsA['visitorsA'].sum() - len(ordersByUsersA['orders'])\n",
    "            ),\n",
    "            name='orders',\n",
    "        ),\n",
    "    ],\n",
    "    axis=0,\n",
    ")\n",
    "\n",
    "sampleBFiltered = pd.concat(\n",
    "    [\n",
    "        ordersByUsersB[\n",
    "            np.logical_not(ordersByUsersB['userId'].isin(abnormalUsers))\n",
    "        ]['orders'],\n",
    "        pd.Series(\n",
    "            0,\n",
    "            index=np.arange(\n",
    "                visitorsB['visitorsB'].sum() - len(ordersByUsersB['orders'])\n",
    "            ),\n",
    "            name='orders',\n",
    "        ),\n",
    "    ],\n",
    "    axis=0,\n",
    ")\n",
    "\n",
    "### для удобства повторим здесь расчёт п.2.10:\n",
    "print('Различие в среднем количестве заказов (до фильтрации):', \"{0:.3f}\".format(sampleB.mean() / sampleA.mean() - 1))\n",
    "print('По тесту Манна-Уитни p-value составил (до фильтрации):',\"{0:.3f}\".format(stats.mannwhitneyu(sampleA, sampleB)[1]))\n",
    "\n",
    "### теперь выведем данные из текущей ячейки:\n",
    "print('Различие в среднем количестве заказов (с фильтрацией):','{0:.3f}'\n",
    "      .format(sampleBFiltered.mean()/sampleAFiltered.mean()-1))\n",
    "print('По тесту Манна-Уитни p-value составил (с фильтрацией):','{0:.3f}'\n",
    "      .format(stats.mannwhitneyu(sampleAFiltered, sampleBFiltered)[1]))"
   ]
  },
  {
   "cell_type": "markdown",
   "metadata": {},
   "source": [
    "__Выводы по n.2.12:__ \n",
    "\n",
    "- Различие в среднем количестве заказов: до фильтрации 0.160 и 0.197 после фильтрации. После фильтрации преимущество В выросло.\n",
    "- По тесту Манна-Уитни p-value составил: до фильтрации 0.011 и 0.006 после фильтрации. Различия в выборках увеличились."
   ]
  },
  {
   "cell_type": "markdown",
   "metadata": {},
   "source": [
    "#### Посчитайте статистическую значимость различий в среднем чеке заказа между группами по «очищенным» данным. Сделайте выводы и предположения."
   ]
  },
  {
   "cell_type": "markdown",
   "metadata": {},
   "source": [
    "Для сравнения выборок используем непараметрический тест Уилкоксона-Манна-Уитни. Тест подтверждает либо опровергает нулевую гипотезу о статистическом равенстве двух выборок.\n",
    "\n",
    "- Нулевая гипотеза. H0 : очищенные выборки одинаковы\n",
    "- Альтернативная гипотеза. H1 : очищенные выборки разные"
   ]
  },
  {
   "cell_type": "code",
   "execution_count": 48,
   "metadata": {},
   "outputs": [
    {
     "name": "stdout",
     "output_type": "stream",
     "text": [
      "Различие в среднем чеке (без фильтрации): 0.287\n",
      "P-value по тесту Манна-Уитни (без фильтрации): 0.829\n",
      "Различие в среднем чеке (с фильтрацией): 0.016\n",
      "P-value по тесту Манна-Уитни (с фильтрацией): 0.918\n"
     ]
    }
   ],
   "source": [
    "### для удобства чтения выводов повторим рас чёт из п.2.11:\n",
    "\n",
    "print('Различие в среднем чеке (без фильтрации):','{0:.3f}'.format(orders[orders['group']=='B']['revenue'].mean()/\n",
    "                       orders[orders['group']=='A']['revenue'].mean()-1))\n",
    "print('P-value по тесту Манна-Уитни (без фильтрации):','{0:.3f}'.format(stats.mannwhitneyu(orders[orders['group']=='A']['revenue'], \n",
    "                                          orders[orders['group']=='B']['revenue'])[1]))\n",
    "\n",
    "\n",
    "# по аналогии с Задачей 5 рассчитаем необходимые данные\n",
    "\n",
    "print('Различие в среднем чеке (с фильтрацией):',\n",
    "    \"{0:.3f}\".format(\n",
    "        orders[\n",
    "            np.logical_and(\n",
    "                orders['group'] == 'B',\n",
    "                np.logical_not(orders['userId'].isin(abnormalUsers)),\n",
    "            )\n",
    "        ]['revenue'].mean()\n",
    "        / orders[\n",
    "            np.logical_and(\n",
    "                orders['group'] == 'A',\n",
    "                np.logical_not(orders['userId'].isin(abnormalUsers)),\n",
    "            )\n",
    "        ]['revenue'].mean()\n",
    "        - 1\n",
    "    )\n",
    ")\n",
    "\n",
    "print('P-value по тесту Манна-Уитни (с фильтрацией):',\n",
    "    '{0:.3f}'.format(\n",
    "        stats.mannwhitneyu(\n",
    "            orders[\n",
    "                np.logical_and(\n",
    "                    orders['group'] == 'A',\n",
    "                    np.logical_not(orders['userId'].isin(abnormalUsers)),\n",
    "                )\n",
    "            ]['revenue'],\n",
    "            orders[\n",
    "                np.logical_and(\n",
    "                    orders['group'] == 'B',\n",
    "                    np.logical_not(orders['userId'].isin(abnormalUsers)),\n",
    "                )\n",
    "            ]['revenue'],\n",
    "        )[1]\n",
    "    )\n",
    ")"
   ]
  },
  {
   "cell_type": "markdown",
   "metadata": {},
   "source": [
    "__Выводы по n.2.13:__ \n",
    "- Различие в среднем чеке: 0.287 до фильтрации и 0.016 после отсеивания аномалий. Различия практически пропали.\n",
    "- P-value по тесту Манна-Уитни: 0.829 до фильтрации и 0.918 после отсеивания аномалий. Схожесть выборок возросла."
   ]
  },
  {
   "cell_type": "markdown",
   "metadata": {},
   "source": [
    "#### Примите решение по результатам теста и объясните его. Варианты решений:\n",
    "1. Остановить тест, зафиксировать победу одной из групп.\n",
    "2. Остановить тест, зафиксировать отсутствие различий между группами.\n",
    "3. Продолжить тест."
   ]
  },
  {
   "cell_type": "markdown",
   "metadata": {},
   "source": [
    "__После удаления 40 \"аномальных\" пользователей (3.87% от общего количества):__\n",
    "\n",
    "- Различие в среднем количестве заказов: до фильтрации 0.160 и 0.197 после фильтрации. После фильтрации преимущество В выросло.\n",
    "- По тесту Манна-Уитни p-value составил: до фильтрации 0.011 и 0.006 после фильтрации. Различия в выборках увеличились.\n",
    "\n",
    "\n",
    "- Различие в среднем чеке: 0.287 до фильтрации и 0.016 после отсеивания аномалий. Различия практически пропали.\n",
    "- P-value по тесту Манна-Уитни: 0.829 до фильтрации и 0.918 после отсеивания аномалий. Схожесть выборок возросла.\n"
   ]
  },
  {
   "cell_type": "markdown",
   "metadata": {},
   "source": [
    "__ВЫВОДЫ:__\n",
    "- С отсеиванием аномальных пользователей по среднему количеству заказов ситуация принципиально не изменилась, группа В по-прежнему лидирует с перевесом более 28%, но зато различия в среднем чеке после отсеивания аномалий понизились до 1.6%. Тест Манна-Уитни позволяет сделать заключение о большой статистической разнице между группами В и А в части среднего количества заказов (по средним чекам тест говорит об отсутствии разницы).\n",
    "- Весьма вероятно, что средние чеки в будущем существенно отличаться не будут, а вот за счёт преимущества по количеству заказов на одного пользователя группа В будет оставаться в лидерах. Поэтому следует остановить тест и признать победу группы В по причине большего среднего количества заказов на одного пользователя."
   ]
  }
 ],
 "metadata": {
  "ExecuteTimeLog": [
   {
    "duration": 47,
    "start_time": "2023-03-05T15:57:44.309Z"
   },
   {
    "duration": 1168,
    "start_time": "2023-03-05T16:01:53.041Z"
   },
   {
    "duration": 885,
    "start_time": "2023-03-05T16:01:54.211Z"
   },
   {
    "duration": 0,
    "start_time": "2023-03-05T16:01:55.100Z"
   },
   {
    "duration": 0,
    "start_time": "2023-03-05T16:01:55.101Z"
   },
   {
    "duration": 0,
    "start_time": "2023-03-05T16:01:55.102Z"
   },
   {
    "duration": 0,
    "start_time": "2023-03-05T16:01:55.103Z"
   },
   {
    "duration": 0,
    "start_time": "2023-03-05T16:01:55.104Z"
   },
   {
    "duration": 0,
    "start_time": "2023-03-05T16:01:55.105Z"
   },
   {
    "duration": 0,
    "start_time": "2023-03-05T16:01:55.106Z"
   },
   {
    "duration": 0,
    "start_time": "2023-03-05T16:01:55.107Z"
   },
   {
    "duration": 0,
    "start_time": "2023-03-05T16:01:55.109Z"
   },
   {
    "duration": 0,
    "start_time": "2023-03-05T16:01:55.110Z"
   },
   {
    "duration": 0,
    "start_time": "2023-03-05T16:01:55.111Z"
   },
   {
    "duration": 0,
    "start_time": "2023-03-05T16:01:55.112Z"
   },
   {
    "duration": 0,
    "start_time": "2023-03-05T16:01:55.113Z"
   },
   {
    "duration": 0,
    "start_time": "2023-03-05T16:01:55.114Z"
   },
   {
    "duration": 0,
    "start_time": "2023-03-05T16:01:55.115Z"
   },
   {
    "duration": 0,
    "start_time": "2023-03-05T16:01:55.116Z"
   },
   {
    "duration": 0,
    "start_time": "2023-03-05T16:01:55.117Z"
   },
   {
    "duration": 0,
    "start_time": "2023-03-05T16:01:55.118Z"
   },
   {
    "duration": 0,
    "start_time": "2023-03-05T16:01:55.119Z"
   },
   {
    "duration": 0,
    "start_time": "2023-03-05T16:01:55.120Z"
   },
   {
    "duration": 0,
    "start_time": "2023-03-05T16:01:55.121Z"
   },
   {
    "duration": 1,
    "start_time": "2023-03-05T16:01:55.122Z"
   },
   {
    "duration": 0,
    "start_time": "2023-03-05T16:01:55.123Z"
   },
   {
    "duration": 0,
    "start_time": "2023-03-05T16:01:55.125Z"
   },
   {
    "duration": 0,
    "start_time": "2023-03-05T16:01:55.125Z"
   },
   {
    "duration": 0,
    "start_time": "2023-03-05T16:01:55.126Z"
   },
   {
    "duration": 0,
    "start_time": "2023-03-05T16:01:55.127Z"
   },
   {
    "duration": 13,
    "start_time": "2023-03-05T16:03:25.692Z"
   },
   {
    "duration": 89,
    "start_time": "2023-03-05T16:03:38.324Z"
   },
   {
    "duration": 8,
    "start_time": "2023-03-05T16:03:38.415Z"
   },
   {
    "duration": 15,
    "start_time": "2023-03-05T16:03:38.425Z"
   },
   {
    "duration": 19,
    "start_time": "2023-03-05T16:03:38.443Z"
   },
   {
    "duration": 18,
    "start_time": "2023-03-05T16:03:38.464Z"
   },
   {
    "duration": 5,
    "start_time": "2023-03-05T16:03:38.484Z"
   },
   {
    "duration": 127,
    "start_time": "2023-03-05T16:03:38.491Z"
   },
   {
    "duration": 7,
    "start_time": "2023-03-05T16:03:38.620Z"
   },
   {
    "duration": 316,
    "start_time": "2023-03-05T16:03:38.628Z"
   },
   {
    "duration": 211,
    "start_time": "2023-03-05T16:03:38.947Z"
   },
   {
    "duration": 334,
    "start_time": "2023-03-05T16:03:39.159Z"
   },
   {
    "duration": 6,
    "start_time": "2023-03-05T16:03:39.495Z"
   },
   {
    "duration": 116,
    "start_time": "2023-03-05T16:03:39.503Z"
   },
   {
    "duration": 25,
    "start_time": "2023-03-05T16:03:39.621Z"
   },
   {
    "duration": 233,
    "start_time": "2023-03-05T16:03:39.647Z"
   },
   {
    "duration": 301,
    "start_time": "2023-03-05T16:03:39.882Z"
   },
   {
    "duration": 12,
    "start_time": "2023-03-05T16:03:40.185Z"
   },
   {
    "duration": 139,
    "start_time": "2023-03-05T16:03:40.199Z"
   },
   {
    "duration": 5,
    "start_time": "2023-03-05T16:03:40.344Z"
   },
   {
    "duration": 17,
    "start_time": "2023-03-05T16:03:40.350Z"
   },
   {
    "duration": 195,
    "start_time": "2023-03-05T16:03:40.369Z"
   },
   {
    "duration": 6,
    "start_time": "2023-03-05T16:03:40.566Z"
   },
   {
    "duration": 239,
    "start_time": "2023-03-05T16:03:40.574Z"
   },
   {
    "duration": 291,
    "start_time": "2023-03-05T16:03:40.814Z"
   },
   {
    "duration": 12,
    "start_time": "2023-03-05T16:03:41.107Z"
   },
   {
    "duration": 32,
    "start_time": "2023-03-05T16:03:41.120Z"
   },
   {
    "duration": 29,
    "start_time": "2023-03-05T16:03:41.153Z"
   },
   {
    "duration": 13,
    "start_time": "2023-03-05T16:03:41.185Z"
   }
  ],
  "colab": {
   "provenance": []
  },
  "kernelspec": {
   "display_name": "Python 3 (ipykernel)",
   "language": "python",
   "name": "python3"
  },
  "language_info": {
   "codemirror_mode": {
    "name": "ipython",
    "version": 3
   },
   "file_extension": ".py",
   "mimetype": "text/x-python",
   "name": "python",
   "nbconvert_exporter": "python",
   "pygments_lexer": "ipython3",
   "version": "3.9.13"
  },
  "toc": {
   "base_numbering": 1,
   "nav_menu": {},
   "number_sections": true,
   "sideBar": true,
   "skip_h1_title": true,
   "title_cell": "Table of Contents",
   "title_sidebar": "Contents",
   "toc_cell": false,
   "toc_position": {
    "height": "100px",
    "left": "682px",
    "top": "111.125px",
    "width": "654px"
   },
   "toc_section_display": true,
   "toc_window_display": false
  }
 },
 "nbformat": 4,
 "nbformat_minor": 1
}
