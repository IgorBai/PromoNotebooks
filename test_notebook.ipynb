{
 "cells": [
  {
   "cell_type": "markdown",
   "id": "5372e433",
   "metadata": {},
   "source": [
    "<div class=\"alert alert-info\">\n",
    "<font size=\"5\"><b>Комментарий ревьюера</b></font>\n",
    "\n",
    "Привет, Игорь! Спасибо, что прислал задание:) Меня зовут Слепцов Артем и я буду проверять твой проект) Ты проделал большую работу над проектом. Будет здорово, если ты, надеюсь, не против, если я буду на ты, будешь отвечать на комментарии и участвовать в диалоге. Если обращение на ты неприемлемо, то прошу сообщить. \n",
    "\n",
    "Мои комментарии обозначены пометкой **Комментарий ревьюера**. Далее в файле ты сможешь найти их в похожих ячейках:\n",
    "    \n",
    "<div class=\"alert alert-success\">Успех: Если фон комментария зелёный - всё сделано правильно. Рекомендации укажу таким же цветом;</div>\n",
    "        \n",
    "<div class=\"alert alert-warning\">Совет: Оранжевый - некритичные замечания;</div>\n",
    "        \n",
    "<div class=\"alert alert-danger\">Ошибка: Красный - нужно переделать. </div>\n",
    "        \n",
    "Не удаляй эти комментарии и постарайся учесть их в ходе выполнения данного проекта. Свои же комментарии ты можешь обозначать любым заметным способом. \n",
    "\n",
    "</div>"
   ]
  },
  {
   "cell_type": "markdown",
   "id": "d54b7a10",
   "metadata": {
    "deletable": false,
    "editable": false,
    "id": "c81daeeb"
   },
   "source": [
    "# Исследование надежности заемщиков\n"
   ]
  },
  {
   "cell_type": "markdown",
   "id": "25f66ef7",
   "metadata": {
    "deletable": false,
    "editable": false,
    "id": "827c20bf"
   },
   "source": [
    "Во второй части проекта вы выполните шаги 3 и 4. Их вручную проверит ревьюер.\n",
    "Чтобы вам не пришлось писать код заново для шагов 1 и 2, мы добавили авторские решения в ячейки с кодом. \n",
    "\n"
   ]
  },
  {
   "cell_type": "markdown",
   "id": "59565dd2",
   "metadata": {
    "deletable": false,
    "editable": false,
    "id": "744d7639"
   },
   "source": [
    "## Откройте таблицу и изучите общую информацию о данных"
   ]
  },
  {
   "cell_type": "markdown",
   "id": "1fdf93ea",
   "metadata": {
    "deletable": false,
    "editable": false,
    "id": "e7a14c31"
   },
   "source": [
    "**Задание 1. Импортируйте библиотеку pandas. Считайте данные из csv-файла в датафрейм и сохраните в переменную `data`. Путь к файлу:**\n",
    "\n",
    "`/datasets/data.csv`"
   ]
  },
  {
   "cell_type": "code",
   "execution_count": 1,
   "id": "cc84dd25",
   "metadata": {
    "deletable": false,
    "id": "7bcf75c9"
   },
   "outputs": [],
   "source": [
    "### импортируем необходимые для построения графиков библиотеки - перенёс сюда из 2-й части\n",
    "import seaborn as sns\n",
    "import matplotlib.pyplot as plt\n",
    "import numpy as np\n",
    "\n",
    "import pandas as pd\n",
    "\n",
    "try:\n",
    "    data = pd.read_csv('/datasets/data.csv')\n",
    "except:\n",
    "    data = pd.read_csv('https://code.s3.yandex.net/datasets/data.csv')"
   ]
  },
  {
   "cell_type": "markdown",
   "id": "a03a124f",
   "metadata": {
    "deletable": false,
    "editable": false,
    "id": "b8038fe3"
   },
   "source": [
    "**Задание 2. Выведите первые 20 строчек датафрейма `data` на экран.**"
   ]
  },
  {
   "cell_type": "code",
   "execution_count": 2,
   "id": "0e2f8841",
   "metadata": {
    "deletable": false,
    "id": "2a7cab99",
    "outputId": "1a8f3ef2-d323-4ec2-ddf7-89670b5944c4"
   },
   "outputs": [
    {
     "data": {
      "text/html": [
       "<div>\n",
       "<style scoped>\n",
       "    .dataframe tbody tr th:only-of-type {\n",
       "        vertical-align: middle;\n",
       "    }\n",
       "\n",
       "    .dataframe tbody tr th {\n",
       "        vertical-align: top;\n",
       "    }\n",
       "\n",
       "    .dataframe thead th {\n",
       "        text-align: right;\n",
       "    }\n",
       "</style>\n",
       "<table border=\"1\" class=\"dataframe\">\n",
       "  <thead>\n",
       "    <tr style=\"text-align: right;\">\n",
       "      <th></th>\n",
       "      <th>children</th>\n",
       "      <th>days_employed</th>\n",
       "      <th>dob_years</th>\n",
       "      <th>education</th>\n",
       "      <th>education_id</th>\n",
       "      <th>family_status</th>\n",
       "      <th>family_status_id</th>\n",
       "      <th>gender</th>\n",
       "      <th>income_type</th>\n",
       "      <th>debt</th>\n",
       "      <th>total_income</th>\n",
       "      <th>purpose</th>\n",
       "    </tr>\n",
       "  </thead>\n",
       "  <tbody>\n",
       "    <tr>\n",
       "      <th>0</th>\n",
       "      <td>1</td>\n",
       "      <td>-8437.673028</td>\n",
       "      <td>42</td>\n",
       "      <td>высшее</td>\n",
       "      <td>0</td>\n",
       "      <td>женат / замужем</td>\n",
       "      <td>0</td>\n",
       "      <td>F</td>\n",
       "      <td>сотрудник</td>\n",
       "      <td>0</td>\n",
       "      <td>253875.639453</td>\n",
       "      <td>покупка жилья</td>\n",
       "    </tr>\n",
       "    <tr>\n",
       "      <th>1</th>\n",
       "      <td>1</td>\n",
       "      <td>-4024.803754</td>\n",
       "      <td>36</td>\n",
       "      <td>среднее</td>\n",
       "      <td>1</td>\n",
       "      <td>женат / замужем</td>\n",
       "      <td>0</td>\n",
       "      <td>F</td>\n",
       "      <td>сотрудник</td>\n",
       "      <td>0</td>\n",
       "      <td>112080.014102</td>\n",
       "      <td>приобретение автомобиля</td>\n",
       "    </tr>\n",
       "    <tr>\n",
       "      <th>2</th>\n",
       "      <td>0</td>\n",
       "      <td>-5623.422610</td>\n",
       "      <td>33</td>\n",
       "      <td>Среднее</td>\n",
       "      <td>1</td>\n",
       "      <td>женат / замужем</td>\n",
       "      <td>0</td>\n",
       "      <td>M</td>\n",
       "      <td>сотрудник</td>\n",
       "      <td>0</td>\n",
       "      <td>145885.952297</td>\n",
       "      <td>покупка жилья</td>\n",
       "    </tr>\n",
       "    <tr>\n",
       "      <th>3</th>\n",
       "      <td>3</td>\n",
       "      <td>-4124.747207</td>\n",
       "      <td>32</td>\n",
       "      <td>среднее</td>\n",
       "      <td>1</td>\n",
       "      <td>женат / замужем</td>\n",
       "      <td>0</td>\n",
       "      <td>M</td>\n",
       "      <td>сотрудник</td>\n",
       "      <td>0</td>\n",
       "      <td>267628.550329</td>\n",
       "      <td>дополнительное образование</td>\n",
       "    </tr>\n",
       "    <tr>\n",
       "      <th>4</th>\n",
       "      <td>0</td>\n",
       "      <td>340266.072047</td>\n",
       "      <td>53</td>\n",
       "      <td>среднее</td>\n",
       "      <td>1</td>\n",
       "      <td>гражданский брак</td>\n",
       "      <td>1</td>\n",
       "      <td>F</td>\n",
       "      <td>пенсионер</td>\n",
       "      <td>0</td>\n",
       "      <td>158616.077870</td>\n",
       "      <td>сыграть свадьбу</td>\n",
       "    </tr>\n",
       "    <tr>\n",
       "      <th>5</th>\n",
       "      <td>0</td>\n",
       "      <td>-926.185831</td>\n",
       "      <td>27</td>\n",
       "      <td>высшее</td>\n",
       "      <td>0</td>\n",
       "      <td>гражданский брак</td>\n",
       "      <td>1</td>\n",
       "      <td>M</td>\n",
       "      <td>компаньон</td>\n",
       "      <td>0</td>\n",
       "      <td>255763.565419</td>\n",
       "      <td>покупка жилья</td>\n",
       "    </tr>\n",
       "    <tr>\n",
       "      <th>6</th>\n",
       "      <td>0</td>\n",
       "      <td>-2879.202052</td>\n",
       "      <td>43</td>\n",
       "      <td>высшее</td>\n",
       "      <td>0</td>\n",
       "      <td>женат / замужем</td>\n",
       "      <td>0</td>\n",
       "      <td>F</td>\n",
       "      <td>компаньон</td>\n",
       "      <td>0</td>\n",
       "      <td>240525.971920</td>\n",
       "      <td>операции с жильем</td>\n",
       "    </tr>\n",
       "    <tr>\n",
       "      <th>7</th>\n",
       "      <td>0</td>\n",
       "      <td>-152.779569</td>\n",
       "      <td>50</td>\n",
       "      <td>СРЕДНЕЕ</td>\n",
       "      <td>1</td>\n",
       "      <td>женат / замужем</td>\n",
       "      <td>0</td>\n",
       "      <td>M</td>\n",
       "      <td>сотрудник</td>\n",
       "      <td>0</td>\n",
       "      <td>135823.934197</td>\n",
       "      <td>образование</td>\n",
       "    </tr>\n",
       "    <tr>\n",
       "      <th>8</th>\n",
       "      <td>2</td>\n",
       "      <td>-6929.865299</td>\n",
       "      <td>35</td>\n",
       "      <td>ВЫСШЕЕ</td>\n",
       "      <td>0</td>\n",
       "      <td>гражданский брак</td>\n",
       "      <td>1</td>\n",
       "      <td>F</td>\n",
       "      <td>сотрудник</td>\n",
       "      <td>0</td>\n",
       "      <td>95856.832424</td>\n",
       "      <td>на проведение свадьбы</td>\n",
       "    </tr>\n",
       "    <tr>\n",
       "      <th>9</th>\n",
       "      <td>0</td>\n",
       "      <td>-2188.756445</td>\n",
       "      <td>41</td>\n",
       "      <td>среднее</td>\n",
       "      <td>1</td>\n",
       "      <td>женат / замужем</td>\n",
       "      <td>0</td>\n",
       "      <td>M</td>\n",
       "      <td>сотрудник</td>\n",
       "      <td>0</td>\n",
       "      <td>144425.938277</td>\n",
       "      <td>покупка жилья для семьи</td>\n",
       "    </tr>\n",
       "    <tr>\n",
       "      <th>10</th>\n",
       "      <td>2</td>\n",
       "      <td>-4171.483647</td>\n",
       "      <td>36</td>\n",
       "      <td>высшее</td>\n",
       "      <td>0</td>\n",
       "      <td>женат / замужем</td>\n",
       "      <td>0</td>\n",
       "      <td>M</td>\n",
       "      <td>компаньон</td>\n",
       "      <td>0</td>\n",
       "      <td>113943.491460</td>\n",
       "      <td>покупка недвижимости</td>\n",
       "    </tr>\n",
       "    <tr>\n",
       "      <th>11</th>\n",
       "      <td>0</td>\n",
       "      <td>-792.701887</td>\n",
       "      <td>40</td>\n",
       "      <td>среднее</td>\n",
       "      <td>1</td>\n",
       "      <td>женат / замужем</td>\n",
       "      <td>0</td>\n",
       "      <td>F</td>\n",
       "      <td>сотрудник</td>\n",
       "      <td>0</td>\n",
       "      <td>77069.234271</td>\n",
       "      <td>покупка коммерческой недвижимости</td>\n",
       "    </tr>\n",
       "    <tr>\n",
       "      <th>12</th>\n",
       "      <td>0</td>\n",
       "      <td>NaN</td>\n",
       "      <td>65</td>\n",
       "      <td>среднее</td>\n",
       "      <td>1</td>\n",
       "      <td>гражданский брак</td>\n",
       "      <td>1</td>\n",
       "      <td>M</td>\n",
       "      <td>пенсионер</td>\n",
       "      <td>0</td>\n",
       "      <td>NaN</td>\n",
       "      <td>сыграть свадьбу</td>\n",
       "    </tr>\n",
       "    <tr>\n",
       "      <th>13</th>\n",
       "      <td>0</td>\n",
       "      <td>-1846.641941</td>\n",
       "      <td>54</td>\n",
       "      <td>неоконченное высшее</td>\n",
       "      <td>2</td>\n",
       "      <td>женат / замужем</td>\n",
       "      <td>0</td>\n",
       "      <td>F</td>\n",
       "      <td>сотрудник</td>\n",
       "      <td>0</td>\n",
       "      <td>130458.228857</td>\n",
       "      <td>приобретение автомобиля</td>\n",
       "    </tr>\n",
       "    <tr>\n",
       "      <th>14</th>\n",
       "      <td>0</td>\n",
       "      <td>-1844.956182</td>\n",
       "      <td>56</td>\n",
       "      <td>высшее</td>\n",
       "      <td>0</td>\n",
       "      <td>гражданский брак</td>\n",
       "      <td>1</td>\n",
       "      <td>F</td>\n",
       "      <td>компаньон</td>\n",
       "      <td>1</td>\n",
       "      <td>165127.911772</td>\n",
       "      <td>покупка жилой недвижимости</td>\n",
       "    </tr>\n",
       "    <tr>\n",
       "      <th>15</th>\n",
       "      <td>1</td>\n",
       "      <td>-972.364419</td>\n",
       "      <td>26</td>\n",
       "      <td>среднее</td>\n",
       "      <td>1</td>\n",
       "      <td>женат / замужем</td>\n",
       "      <td>0</td>\n",
       "      <td>F</td>\n",
       "      <td>сотрудник</td>\n",
       "      <td>0</td>\n",
       "      <td>116820.904450</td>\n",
       "      <td>строительство собственной недвижимости</td>\n",
       "    </tr>\n",
       "    <tr>\n",
       "      <th>16</th>\n",
       "      <td>0</td>\n",
       "      <td>-1719.934226</td>\n",
       "      <td>35</td>\n",
       "      <td>среднее</td>\n",
       "      <td>1</td>\n",
       "      <td>женат / замужем</td>\n",
       "      <td>0</td>\n",
       "      <td>F</td>\n",
       "      <td>сотрудник</td>\n",
       "      <td>0</td>\n",
       "      <td>289202.704229</td>\n",
       "      <td>недвижимость</td>\n",
       "    </tr>\n",
       "    <tr>\n",
       "      <th>17</th>\n",
       "      <td>0</td>\n",
       "      <td>-2369.999720</td>\n",
       "      <td>33</td>\n",
       "      <td>высшее</td>\n",
       "      <td>0</td>\n",
       "      <td>гражданский брак</td>\n",
       "      <td>1</td>\n",
       "      <td>M</td>\n",
       "      <td>сотрудник</td>\n",
       "      <td>0</td>\n",
       "      <td>90410.586745</td>\n",
       "      <td>строительство недвижимости</td>\n",
       "    </tr>\n",
       "    <tr>\n",
       "      <th>18</th>\n",
       "      <td>0</td>\n",
       "      <td>400281.136913</td>\n",
       "      <td>53</td>\n",
       "      <td>среднее</td>\n",
       "      <td>1</td>\n",
       "      <td>вдовец / вдова</td>\n",
       "      <td>2</td>\n",
       "      <td>F</td>\n",
       "      <td>пенсионер</td>\n",
       "      <td>0</td>\n",
       "      <td>56823.777243</td>\n",
       "      <td>на покупку подержанного автомобиля</td>\n",
       "    </tr>\n",
       "    <tr>\n",
       "      <th>19</th>\n",
       "      <td>0</td>\n",
       "      <td>-10038.818549</td>\n",
       "      <td>48</td>\n",
       "      <td>СРЕДНЕЕ</td>\n",
       "      <td>1</td>\n",
       "      <td>в разводе</td>\n",
       "      <td>3</td>\n",
       "      <td>F</td>\n",
       "      <td>сотрудник</td>\n",
       "      <td>0</td>\n",
       "      <td>242831.107982</td>\n",
       "      <td>на покупку своего автомобиля</td>\n",
       "    </tr>\n",
       "  </tbody>\n",
       "</table>\n",
       "</div>"
      ],
      "text/plain": [
       "    children  days_employed  dob_years            education  education_id  \\\n",
       "0          1   -8437.673028         42               высшее             0   \n",
       "1          1   -4024.803754         36              среднее             1   \n",
       "2          0   -5623.422610         33              Среднее             1   \n",
       "3          3   -4124.747207         32              среднее             1   \n",
       "4          0  340266.072047         53              среднее             1   \n",
       "5          0    -926.185831         27               высшее             0   \n",
       "6          0   -2879.202052         43               высшее             0   \n",
       "7          0    -152.779569         50              СРЕДНЕЕ             1   \n",
       "8          2   -6929.865299         35               ВЫСШЕЕ             0   \n",
       "9          0   -2188.756445         41              среднее             1   \n",
       "10         2   -4171.483647         36               высшее             0   \n",
       "11         0    -792.701887         40              среднее             1   \n",
       "12         0            NaN         65              среднее             1   \n",
       "13         0   -1846.641941         54  неоконченное высшее             2   \n",
       "14         0   -1844.956182         56               высшее             0   \n",
       "15         1    -972.364419         26              среднее             1   \n",
       "16         0   -1719.934226         35              среднее             1   \n",
       "17         0   -2369.999720         33               высшее             0   \n",
       "18         0  400281.136913         53              среднее             1   \n",
       "19         0  -10038.818549         48              СРЕДНЕЕ             1   \n",
       "\n",
       "       family_status  family_status_id gender income_type  debt  \\\n",
       "0    женат / замужем                 0      F   сотрудник     0   \n",
       "1    женат / замужем                 0      F   сотрудник     0   \n",
       "2    женат / замужем                 0      M   сотрудник     0   \n",
       "3    женат / замужем                 0      M   сотрудник     0   \n",
       "4   гражданский брак                 1      F   пенсионер     0   \n",
       "5   гражданский брак                 1      M   компаньон     0   \n",
       "6    женат / замужем                 0      F   компаньон     0   \n",
       "7    женат / замужем                 0      M   сотрудник     0   \n",
       "8   гражданский брак                 1      F   сотрудник     0   \n",
       "9    женат / замужем                 0      M   сотрудник     0   \n",
       "10   женат / замужем                 0      M   компаньон     0   \n",
       "11   женат / замужем                 0      F   сотрудник     0   \n",
       "12  гражданский брак                 1      M   пенсионер     0   \n",
       "13   женат / замужем                 0      F   сотрудник     0   \n",
       "14  гражданский брак                 1      F   компаньон     1   \n",
       "15   женат / замужем                 0      F   сотрудник     0   \n",
       "16   женат / замужем                 0      F   сотрудник     0   \n",
       "17  гражданский брак                 1      M   сотрудник     0   \n",
       "18    вдовец / вдова                 2      F   пенсионер     0   \n",
       "19         в разводе                 3      F   сотрудник     0   \n",
       "\n",
       "     total_income                                 purpose  \n",
       "0   253875.639453                           покупка жилья  \n",
       "1   112080.014102                 приобретение автомобиля  \n",
       "2   145885.952297                           покупка жилья  \n",
       "3   267628.550329              дополнительное образование  \n",
       "4   158616.077870                         сыграть свадьбу  \n",
       "5   255763.565419                           покупка жилья  \n",
       "6   240525.971920                       операции с жильем  \n",
       "7   135823.934197                             образование  \n",
       "8    95856.832424                   на проведение свадьбы  \n",
       "9   144425.938277                 покупка жилья для семьи  \n",
       "10  113943.491460                    покупка недвижимости  \n",
       "11   77069.234271       покупка коммерческой недвижимости  \n",
       "12            NaN                         сыграть свадьбу  \n",
       "13  130458.228857                 приобретение автомобиля  \n",
       "14  165127.911772              покупка жилой недвижимости  \n",
       "15  116820.904450  строительство собственной недвижимости  \n",
       "16  289202.704229                            недвижимость  \n",
       "17   90410.586745              строительство недвижимости  \n",
       "18   56823.777243      на покупку подержанного автомобиля  \n",
       "19  242831.107982            на покупку своего автомобиля  "
      ]
     },
     "execution_count": 2,
     "metadata": {},
     "output_type": "execute_result"
    }
   ],
   "source": [
    "data.head(20)"
   ]
  },
  {
   "cell_type": "markdown",
   "id": "91cce518",
   "metadata": {
    "deletable": false,
    "editable": false,
    "id": "1c12e233"
   },
   "source": [
    "**Задание 3. Выведите основную информацию о датафрейме с помощью метода `info()`.**"
   ]
  },
  {
   "cell_type": "code",
   "execution_count": 3,
   "id": "383e4056",
   "metadata": {
    "deletable": false,
    "id": "2b757bca",
    "outputId": "15376089-8dad-46c9-b520-c05248d43158"
   },
   "outputs": [
    {
     "name": "stdout",
     "output_type": "stream",
     "text": [
      "<class 'pandas.core.frame.DataFrame'>\n",
      "RangeIndex: 21525 entries, 0 to 21524\n",
      "Data columns (total 12 columns):\n",
      " #   Column            Non-Null Count  Dtype  \n",
      "---  ------            --------------  -----  \n",
      " 0   children          21525 non-null  int64  \n",
      " 1   days_employed     19351 non-null  float64\n",
      " 2   dob_years         21525 non-null  int64  \n",
      " 3   education         21525 non-null  object \n",
      " 4   education_id      21525 non-null  int64  \n",
      " 5   family_status     21525 non-null  object \n",
      " 6   family_status_id  21525 non-null  int64  \n",
      " 7   gender            21525 non-null  object \n",
      " 8   income_type       21525 non-null  object \n",
      " 9   debt              21525 non-null  int64  \n",
      " 10  total_income      19351 non-null  float64\n",
      " 11  purpose           21525 non-null  object \n",
      "dtypes: float64(2), int64(5), object(5)\n",
      "memory usage: 2.0+ MB\n"
     ]
    }
   ],
   "source": [
    "data.info()"
   ]
  },
  {
   "cell_type": "markdown",
   "id": "18c339cb",
   "metadata": {
    "deletable": false,
    "editable": false,
    "id": "333ec665"
   },
   "source": [
    "## Предобработка данных"
   ]
  },
  {
   "cell_type": "markdown",
   "id": "59ba7c50",
   "metadata": {
    "deletable": false,
    "editable": false,
    "id": "02d92d53"
   },
   "source": [
    "### Удаление пропусков"
   ]
  },
  {
   "cell_type": "markdown",
   "id": "324b774d",
   "metadata": {
    "deletable": false,
    "editable": false,
    "id": "cd84967c"
   },
   "source": [
    "**Задание 4. Выведите количество пропущенных значений для каждого столбца. Используйте комбинацию двух методов.**"
   ]
  },
  {
   "cell_type": "code",
   "execution_count": 4,
   "id": "ddfd7baf",
   "metadata": {
    "deletable": false,
    "id": "7f9b2309",
    "outputId": "81f4d817-781c-465c-ed15-91ce4446810d"
   },
   "outputs": [
    {
     "data": {
      "text/plain": [
       "children               0\n",
       "days_employed       2174\n",
       "dob_years              0\n",
       "education              0\n",
       "education_id           0\n",
       "family_status          0\n",
       "family_status_id       0\n",
       "gender                 0\n",
       "income_type            0\n",
       "debt                   0\n",
       "total_income        2174\n",
       "purpose                0\n",
       "dtype: int64"
      ]
     },
     "execution_count": 4,
     "metadata": {},
     "output_type": "execute_result"
    }
   ],
   "source": [
    "data.isna().sum()"
   ]
  },
  {
   "cell_type": "markdown",
   "id": "f6c066cf",
   "metadata": {
    "deletable": false,
    "editable": false,
    "id": "db86e27b"
   },
   "source": [
    "**Задание 5. В двух столбцах есть пропущенные значения. Один из них — `days_employed`. Пропуски в этом столбце вы обработаете на следующем этапе. Другой столбец с пропущенными значениями — `total_income` — хранит данные о доходах. На сумму дохода сильнее всего влияет тип занятости, поэтому заполнить пропуски в этом столбце нужно медианным значением по каждому типу из столбца `income_type`. Например, у человека с типом занятости `сотрудник` пропуск в столбце `total_income` должен быть заполнен медианным доходом среди всех записей с тем же типом.**"
   ]
  },
  {
   "cell_type": "code",
   "execution_count": 5,
   "id": "ace68eac",
   "metadata": {
    "deletable": false,
    "id": "42006a93"
   },
   "outputs": [],
   "source": [
    "for t in data['income_type'].unique():\n",
    "    data.loc[(data['income_type'] == t) & (data['total_income'].isna()), 'total_income'] = \\\n",
    "    data.loc[(data['income_type'] == t), 'total_income'].median()"
   ]
  },
  {
   "cell_type": "markdown",
   "id": "c41afd62",
   "metadata": {
    "deletable": false,
    "editable": false,
    "id": "89da5ece"
   },
   "source": [
    "### Обработка аномальных значений"
   ]
  },
  {
   "cell_type": "markdown",
   "id": "6750c30f",
   "metadata": {
    "deletable": false,
    "editable": false,
    "id": "57964554"
   },
   "source": [
    "**Задание 6. В данных могут встречаться артефакты (аномалии) — значения, которые не отражают действительность и появились по какой-то ошибке. таким артефактом будет отрицательное количество дней трудового стажа в столбце `days_employed`. Для реальных данных это нормально. Обработайте значения в этом столбце: замените все отрицательные значения положительными с помощью метода `abs()`.**"
   ]
  },
  {
   "cell_type": "code",
   "execution_count": 6,
   "id": "b9e3db48",
   "metadata": {
    "deletable": false,
    "id": "f6f055bf"
   },
   "outputs": [],
   "source": [
    "data['days_employed'] = data['days_employed'].abs()"
   ]
  },
  {
   "cell_type": "markdown",
   "id": "d1c29855",
   "metadata": {
    "deletable": false,
    "editable": false,
    "id": "6107dd2f"
   },
   "source": [
    "**Задание 7. Для каждого типа занятости выведите медианное значение трудового стажа `days_employed` в днях.**"
   ]
  },
  {
   "cell_type": "code",
   "execution_count": 7,
   "id": "dbe467fa",
   "metadata": {
    "deletable": false,
    "id": "85a5faf6",
    "outputId": "801ef80e-522b-4668-f34e-565af7432bcf"
   },
   "outputs": [
    {
     "data": {
      "text/plain": [
       "income_type\n",
       "безработный        366413.652744\n",
       "в декрете            3296.759962\n",
       "госслужащий          2689.368353\n",
       "компаньон            1547.382223\n",
       "пенсионер          365213.306266\n",
       "предприниматель       520.848083\n",
       "сотрудник            1574.202821\n",
       "студент               578.751554\n",
       "Name: days_employed, dtype: float64"
      ]
     },
     "execution_count": 7,
     "metadata": {},
     "output_type": "execute_result"
    }
   ],
   "source": [
    "data.groupby('income_type')['days_employed'].agg('median')"
   ]
  },
  {
   "cell_type": "markdown",
   "id": "edd0da86",
   "metadata": {
    "deletable": false,
    "editable": false,
    "id": "38d1a030"
   },
   "source": [
    "У двух типов (безработные и пенсионеры) получатся аномально большие значения. Исправить такие значения сложно, поэтому оставьте их как есть. Тем более этот столбец не понадобится вам для исследования."
   ]
  },
  {
   "cell_type": "markdown",
   "id": "da190c9e",
   "metadata": {
    "deletable": false,
    "editable": false,
    "id": "d8a9f147"
   },
   "source": [
    "**Задание 8. Выведите перечень уникальных значений столбца `children`.**"
   ]
  },
  {
   "cell_type": "code",
   "execution_count": 8,
   "id": "8dc8cd58",
   "metadata": {
    "deletable": false,
    "id": "ef5056eb",
    "outputId": "6975b15c-7f95-4697-d16d-a0c79b657b03"
   },
   "outputs": [
    {
     "data": {
      "text/plain": [
       "array([ 1,  0,  3,  2, -1,  4, 20,  5], dtype=int64)"
      ]
     },
     "execution_count": 8,
     "metadata": {},
     "output_type": "execute_result"
    }
   ],
   "source": [
    "data['children'].unique()"
   ]
  },
  {
   "cell_type": "markdown",
   "id": "ddb27294",
   "metadata": {
    "deletable": false,
    "editable": false,
    "id": "40b9ebf2"
   },
   "source": [
    "**Задание 9. В столбце `children` есть два аномальных значения. Удалите строки, в которых встречаются такие аномальные значения из датафрейма `data`.**"
   ]
  },
  {
   "cell_type": "code",
   "execution_count": 9,
   "id": "3fc94fdb",
   "metadata": {
    "deletable": false,
    "id": "3ff9801d"
   },
   "outputs": [],
   "source": [
    "data = data[(data['children'] != -1) & (data['children'] != 20)]"
   ]
  },
  {
   "cell_type": "markdown",
   "id": "ffc83f27",
   "metadata": {
    "deletable": false,
    "editable": false,
    "id": "bbc4d0ce"
   },
   "source": [
    "**Задание 10. Ещё раз выведите перечень уникальных значений столбца `children`, чтобы убедиться, что артефакты удалены.**"
   ]
  },
  {
   "cell_type": "code",
   "execution_count": 10,
   "id": "5f3861a1",
   "metadata": {
    "deletable": false,
    "id": "ad4fa8b7",
    "outputId": "b2097101-d49d-44d9-901b-32a65c9463d1"
   },
   "outputs": [
    {
     "data": {
      "text/plain": [
       "array([1, 0, 3, 2, 4, 5], dtype=int64)"
      ]
     },
     "execution_count": 10,
     "metadata": {},
     "output_type": "execute_result"
    }
   ],
   "source": [
    "data['children'].unique()"
   ]
  },
  {
   "cell_type": "markdown",
   "id": "600768f5",
   "metadata": {
    "deletable": false,
    "editable": false,
    "id": "75440b63"
   },
   "source": [
    "### Удаление пропусков (продолжение)"
   ]
  },
  {
   "cell_type": "markdown",
   "id": "ce4f58ea",
   "metadata": {
    "deletable": false,
    "editable": false,
    "id": "f4ea573f"
   },
   "source": [
    "**Задание 11. Заполните пропуски в столбце `days_employed` медианными значениями по каждого типа занятости `income_type`.**"
   ]
  },
  {
   "cell_type": "code",
   "execution_count": 11,
   "id": "4a0c7511",
   "metadata": {
    "deletable": false,
    "id": "af6b1a7e"
   },
   "outputs": [],
   "source": [
    "for t in data['income_type'].unique():\n",
    "    data.loc[(data['income_type'] == t) & (data['days_employed'].isna()), 'days_employed'] = \\\n",
    "    data.loc[(data['income_type'] == t), 'days_employed'].median()"
   ]
  },
  {
   "cell_type": "markdown",
   "id": "d1ecf993",
   "metadata": {
    "deletable": false,
    "editable": false,
    "id": "2753f40d"
   },
   "source": [
    "**Задание 12. Убедитесь, что все пропуски заполнены. Проверьте себя и ещё раз выведите количество пропущенных значений для каждого столбца с помощью двух методов.**"
   ]
  },
  {
   "cell_type": "code",
   "execution_count": 12,
   "id": "390a5d55",
   "metadata": {
    "deletable": false,
    "id": "55f78bc2",
    "outputId": "8da1e4e1-358e-4e87-98c9-f261bce0a7b2"
   },
   "outputs": [
    {
     "data": {
      "text/plain": [
       "children            0\n",
       "days_employed       0\n",
       "dob_years           0\n",
       "education           0\n",
       "education_id        0\n",
       "family_status       0\n",
       "family_status_id    0\n",
       "gender              0\n",
       "income_type         0\n",
       "debt                0\n",
       "total_income        0\n",
       "purpose             0\n",
       "dtype: int64"
      ]
     },
     "execution_count": 12,
     "metadata": {},
     "output_type": "execute_result"
    }
   ],
   "source": [
    "data.isna().sum()"
   ]
  },
  {
   "cell_type": "markdown",
   "id": "f0cce247",
   "metadata": {
    "deletable": false,
    "editable": false,
    "id": "ddc81e43"
   },
   "source": [
    "### Изменение типов данных"
   ]
  },
  {
   "cell_type": "markdown",
   "id": "cf9bebfb",
   "metadata": {
    "deletable": false,
    "editable": false,
    "id": "42d19d24"
   },
   "source": [
    "**Задание 13. Замените вещественный тип данных в столбце `total_income` на целочисленный с помощью метода `astype()`.**"
   ]
  },
  {
   "cell_type": "code",
   "execution_count": 13,
   "id": "20891866",
   "metadata": {
    "deletable": false,
    "id": "920b65ad"
   },
   "outputs": [],
   "source": [
    "data['total_income'] = data['total_income'].astype(int)"
   ]
  },
  {
   "cell_type": "markdown",
   "id": "b017c87f",
   "metadata": {
    "deletable": false,
    "editable": false,
    "id": "80c420ba"
   },
   "source": [
    "### Обработка дубликатов"
   ]
  },
  {
   "cell_type": "markdown",
   "id": "99116d3a",
   "metadata": {
    "deletable": false,
    "editable": false
   },
   "source": [
    "**Задание 14. Обработайте неявные дубликаты в столбце `education`. В этом столбце есть одни и те же значения, но записанные по-разному: с использованием заглавных и строчных букв. Приведите их к нижнему регистру. Проверьте остальные столбцы.**"
   ]
  },
  {
   "cell_type": "code",
   "execution_count": 14,
   "id": "165b8d33",
   "metadata": {
    "deletable": false
   },
   "outputs": [],
   "source": [
    "data['education'] = data['education'].str.lower()"
   ]
  },
  {
   "cell_type": "markdown",
   "id": "b457397a",
   "metadata": {
    "deletable": false,
    "editable": false,
    "id": "dc587695"
   },
   "source": [
    "**Задание 15. Выведите на экран количество строк-дубликатов в данных. Если такие строки присутствуют, удалите их.**"
   ]
  },
  {
   "cell_type": "code",
   "execution_count": 15,
   "id": "ff3f9aea",
   "metadata": {
    "deletable": false,
    "id": "3ee445e4",
    "outputId": "9684deba-1934-42d1-99e1-cda61740f822"
   },
   "outputs": [
    {
     "data": {
      "text/plain": [
       "71"
      ]
     },
     "execution_count": 15,
     "metadata": {},
     "output_type": "execute_result"
    }
   ],
   "source": [
    "data.duplicated().sum()"
   ]
  },
  {
   "cell_type": "code",
   "execution_count": 16,
   "id": "5e1a6d85",
   "metadata": {
    "deletable": false,
    "id": "8575fe05"
   },
   "outputs": [],
   "source": [
    "data = data.drop_duplicates()"
   ]
  },
  {
   "cell_type": "markdown",
   "id": "38219985",
   "metadata": {
    "deletable": false,
    "editable": false,
    "id": "9904cf55"
   },
   "source": [
    "### Категоризация данных"
   ]
  },
  {
   "cell_type": "markdown",
   "id": "a48ad386",
   "metadata": {
    "deletable": false,
    "editable": false,
    "id": "72fcc8a2"
   },
   "source": [
    "**Задание 16. На основании диапазонов, указанных ниже, создайте в датафрейме `data` столбец `total_income_category` с категориями:**\n",
    "\n",
    "- 0–30000 — `'E'`;\n",
    "- 30001–50000 — `'D'`;\n",
    "- 50001–200000 — `'C'`;\n",
    "- 200001–1000000 — `'B'`;\n",
    "- 1000001 и выше — `'A'`.\n",
    "\n",
    "\n",
    "**Например, кредитополучателю с доходом 25000 нужно назначить категорию `'E'`, а клиенту, получающему 235000, — `'B'`. Используйте собственную функцию с именем `categorize_income()` и метод `apply()`.**"
   ]
  },
  {
   "cell_type": "code",
   "execution_count": 17,
   "id": "d6823dd1",
   "metadata": {
    "deletable": false,
    "id": "e1771346"
   },
   "outputs": [],
   "source": [
    "def categorize_income(income):\n",
    "    try:\n",
    "        if 0 <= income <= 30000:\n",
    "            return 'E'\n",
    "        elif 30001 <= income <= 50000:\n",
    "            return 'D'\n",
    "        elif 50001 <= income <= 200000:\n",
    "            return 'C'\n",
    "        elif 200001 <= income <= 1000000:\n",
    "            return 'B'\n",
    "        elif income >= 1000001:\n",
    "            return 'A'\n",
    "    except:\n",
    "        pass"
   ]
  },
  {
   "cell_type": "code",
   "execution_count": 18,
   "id": "10217cdd",
   "metadata": {
    "deletable": false,
    "id": "d5f3586d"
   },
   "outputs": [],
   "source": [
    "data['total_income_category'] = data['total_income'].apply(categorize_income)"
   ]
  },
  {
   "cell_type": "markdown",
   "id": "6b898a57",
   "metadata": {
    "deletable": false,
    "editable": false,
    "id": "dde49b5c"
   },
   "source": [
    "**Задание 17. Выведите на экран перечень уникальных целей взятия кредита из столбца `purpose`.**"
   ]
  },
  {
   "cell_type": "code",
   "execution_count": 19,
   "id": "1d84101a",
   "metadata": {
    "deletable": false,
    "id": "f67ce9b3",
    "outputId": "673c12d9-7d7e-4ae0-9812-c622c89dd244"
   },
   "outputs": [
    {
     "data": {
      "text/plain": [
       "array(['покупка жилья', 'приобретение автомобиля',\n",
       "       'дополнительное образование', 'сыграть свадьбу',\n",
       "       'операции с жильем', 'образование', 'на проведение свадьбы',\n",
       "       'покупка жилья для семьи', 'покупка недвижимости',\n",
       "       'покупка коммерческой недвижимости', 'покупка жилой недвижимости',\n",
       "       'строительство собственной недвижимости', 'недвижимость',\n",
       "       'строительство недвижимости', 'на покупку подержанного автомобиля',\n",
       "       'на покупку своего автомобиля',\n",
       "       'операции с коммерческой недвижимостью',\n",
       "       'строительство жилой недвижимости', 'жилье',\n",
       "       'операции со своей недвижимостью', 'автомобили',\n",
       "       'заняться образованием', 'сделка с подержанным автомобилем',\n",
       "       'получение образования', 'автомобиль', 'свадьба',\n",
       "       'получение дополнительного образования', 'покупка своего жилья',\n",
       "       'операции с недвижимостью', 'получение высшего образования',\n",
       "       'свой автомобиль', 'сделка с автомобилем',\n",
       "       'профильное образование', 'высшее образование',\n",
       "       'покупка жилья для сдачи', 'на покупку автомобиля', 'ремонт жилью',\n",
       "       'заняться высшим образованием'], dtype=object)"
      ]
     },
     "execution_count": 19,
     "metadata": {},
     "output_type": "execute_result"
    }
   ],
   "source": [
    "data['purpose'].unique()"
   ]
  },
  {
   "cell_type": "markdown",
   "id": "8267cb45",
   "metadata": {
    "deletable": false,
    "editable": false,
    "id": "85d0aef0"
   },
   "source": [
    "**Задание 18. Создайте функцию, которая на основании данных из столбца `purpose` сформирует новый столбец `purpose_category`, в который войдут следующие категории:**\n",
    "\n",
    "- `'операции с автомобилем'`,\n",
    "- `'операции с недвижимостью'`,\n",
    "- `'проведение свадьбы'`,\n",
    "- `'получение образования'`.\n",
    "\n",
    "**Например, если в столбце `purpose` находится подстрока `'на покупку автомобиля'`, то в столбце `purpose_category` должна появиться строка `'операции с автомобилем'`.**\n",
    "\n",
    "**Используйте собственную функцию с именем `categorize_purpose()` и метод `apply()`. Изучите данные в столбце `purpose` и определите, какие подстроки помогут вам правильно определить категорию.**"
   ]
  },
  {
   "cell_type": "code",
   "execution_count": 20,
   "id": "794877db",
   "metadata": {
    "deletable": false,
    "id": "e149fab4"
   },
   "outputs": [],
   "source": [
    "def categorize_purpose(row):\n",
    "    try:\n",
    "        if 'автом' in row:\n",
    "            return 'операции с автомобилем'\n",
    "        elif 'жил' in row or 'недвиж' in row:\n",
    "            return 'операции с недвижимостью'\n",
    "        elif 'свад' in row:\n",
    "            return 'проведение свадьбы'\n",
    "        elif 'образов' in row:\n",
    "            return 'получение образования'\n",
    "    except:\n",
    "        return 'нет категории'"
   ]
  },
  {
   "cell_type": "code",
   "execution_count": 21,
   "id": "1cc3de4a",
   "metadata": {
    "deletable": false,
    "id": "bf36e69b"
   },
   "outputs": [],
   "source": [
    "data['purpose_category'] = data['purpose'].apply(categorize_purpose)"
   ]
  },
  {
   "cell_type": "markdown",
   "id": "8738f7e0",
   "metadata": {
    "deletable": false,
    "editable": false,
    "id": "09b242bf"
   },
   "source": [
    "### Шаг 3. Исследуйте данные и ответьте на вопросы"
   ]
  },
  {
   "cell_type": "markdown",
   "id": "82346155",
   "metadata": {
    "deletable": false,
    "editable": false,
    "id": "c5d66278"
   },
   "source": [
    "#### 3.1 Есть ли зависимость между количеством детей и возвратом кредита в срок?"
   ]
  },
  {
   "cell_type": "markdown",
   "id": "fba9c26e",
   "metadata": {},
   "source": [
    "<div class=\"alert alert-success\">\n",
    "<font size=\"5\"><b>Комментарий ревьюера</b></font>\n",
    "\n",
    "Совет: Импорт необходимых библиотек следует производить в первой ячейке работы, как то рекомендует стандарт. \n",
    "\n",
    "</div>"
   ]
  },
  {
   "cell_type": "code",
   "execution_count": 22,
   "id": "88aa3023",
   "metadata": {},
   "outputs": [],
   "source": [
    "### Хорошо. Я хотел, но подумал, что в первую часть вносить изменения нельзя. Свои новые комментарии буду делать с '###'"
   ]
  },
  {
   "cell_type": "code",
   "execution_count": 23,
   "id": "c0047e4c",
   "metadata": {},
   "outputs": [
    {
     "name": "stdout",
     "output_type": "stream",
     "text": [
      "\n",
      "Дети, задолженности и общ. количества\n"
     ]
    },
    {
     "data": {
      "text/html": [
       "<div>\n",
       "<style scoped>\n",
       "    .dataframe tbody tr th:only-of-type {\n",
       "        vertical-align: middle;\n",
       "    }\n",
       "\n",
       "    .dataframe tbody tr th {\n",
       "        vertical-align: top;\n",
       "    }\n",
       "\n",
       "    .dataframe thead th {\n",
       "        text-align: right;\n",
       "    }\n",
       "</style>\n",
       "<table border=\"1\" class=\"dataframe\">\n",
       "  <thead>\n",
       "    <tr style=\"text-align: right;\">\n",
       "      <th></th>\n",
       "      <th>sum</th>\n",
       "      <th>count</th>\n",
       "    </tr>\n",
       "    <tr>\n",
       "      <th>children</th>\n",
       "      <th></th>\n",
       "      <th></th>\n",
       "    </tr>\n",
       "  </thead>\n",
       "  <tbody>\n",
       "    <tr>\n",
       "      <th>0</th>\n",
       "      <td>1063</td>\n",
       "      <td>14091</td>\n",
       "    </tr>\n",
       "    <tr>\n",
       "      <th>1</th>\n",
       "      <td>444</td>\n",
       "      <td>4808</td>\n",
       "    </tr>\n",
       "    <tr>\n",
       "      <th>2</th>\n",
       "      <td>194</td>\n",
       "      <td>2052</td>\n",
       "    </tr>\n",
       "    <tr>\n",
       "      <th>3</th>\n",
       "      <td>27</td>\n",
       "      <td>330</td>\n",
       "    </tr>\n",
       "    <tr>\n",
       "      <th>4</th>\n",
       "      <td>4</td>\n",
       "      <td>41</td>\n",
       "    </tr>\n",
       "    <tr>\n",
       "      <th>5</th>\n",
       "      <td>0</td>\n",
       "      <td>9</td>\n",
       "    </tr>\n",
       "  </tbody>\n",
       "</table>\n",
       "</div>"
      ],
      "text/plain": [
       "           sum  count\n",
       "children             \n",
       "0         1063  14091\n",
       "1          444   4808\n",
       "2          194   2052\n",
       "3           27    330\n",
       "4            4     41\n",
       "5            0      9"
      ]
     },
     "metadata": {},
     "output_type": "display_data"
    },
    {
     "name": "stdout",
     "output_type": "stream",
     "text": [
      "Данные графика в таблице\n"
     ]
    },
    {
     "data": {
      "text/plain": [
       "children\n",
       "0    7.54\n",
       "1    9.23\n",
       "2    9.45\n",
       "3    8.18\n",
       "4    9.76\n",
       "5    0.00\n",
       "dtype: float64"
      ]
     },
     "metadata": {},
     "output_type": "display_data"
    },
    {
     "data": {
      "text/plain": [
       "Text(0.5, 0, 'Количество детей в семье')"
      ]
     },
     "execution_count": 23,
     "metadata": {},
     "output_type": "execute_result"
    },
    {
     "data": {
      "image/png": "[encoded data removed]",
      "text/plain": [
       "<Figure size 600x300 with 1 Axes>"
      ]
     },
     "metadata": {},
     "output_type": "display_data"
    }
   ],
   "source": [
    "# группируем данные по количеству детей и применяем к столбцу задолженностей функции суммы и подсчёта\n",
    "aggregated_1 = data.groupby('children')['debt'].agg(['sum', 'count'])\n",
    "print(\"\\nДети, задолженности и общ. количества\")\n",
    "display(aggregated_1)\n",
    "\n",
    "\n",
    "# формируем данные для графика в процентах задержавших от общего количества заёмщиков в группах с N-детей\n",
    "graph = round(aggregated_1['sum'] *100 / aggregated_1['count'], 2)\n",
    "print(\"Данные графика в таблице\")\n",
    "display(graph)\n",
    "\n",
    "# подписываем график, оси и выводим на экран\n",
    "plt.rcParams['figure.figsize'] = [6, 3]  ### задаём размер графика поменьше\n",
    "sns.barplot(x=graph.index, y=graph.values)\n",
    "plt.title('Зависимость \"дети - возврат кредита в срок\"')\n",
    "plt.ylabel('% задерживающих выплаты')\n",
    "plt.xlabel('Количество детей в семье')"
   ]
  },
  {
   "cell_type": "markdown",
   "id": "87373919",
   "metadata": {},
   "source": [
    "**Анализ:**\n",
    "    Вероятность задержки возврата по кредиту от количества детей в семье меняется немонотонно (для 0 и 3 меньше, чем для 1 и 2). За некоторым ростом для 4х детей следует резкий спад для 5-ти детей. Кроме того, количество заёмщиков с 4-мя и 5-ю детьми составляет менее 1% и не может обеспечить надёжные результаты, которые следует принимать к рассмотрению."
   ]
  },
  {
   "cell_type": "markdown",
   "id": "18c25b1b",
   "metadata": {
    "deletable": false,
    "id": "3a6b99ec"
   },
   "source": [
    "**Вывод:** На основании приведённых данных заключить, что имеется зависимость между количеством детей и возвратом кредита в срок - нельзя."
   ]
  },
  {
   "cell_type": "markdown",
   "id": "2c6ecd88",
   "metadata": {},
   "source": [
    "<div class=\"alert alert-success\">\n",
    "<font size=\"5\"><b>Комментарий ревьюера</b></font>\n",
    "\n",
    "Успех: Вывод не противоречит полученному результату. \n",
    "\n",
    "</div>"
   ]
  },
  {
   "cell_type": "markdown",
   "id": "27e1e493",
   "metadata": {
    "deletable": false,
    "editable": false,
    "id": "97be82ca"
   },
   "source": [
    "#### 3.2 Есть ли зависимость между семейным положением и возвратом кредита в срок?"
   ]
  },
  {
   "cell_type": "code",
   "execution_count": 24,
   "id": "d7f77759",
   "metadata": {
    "deletable": false,
    "id": "2cacfc4a"
   },
   "outputs": [
    {
     "name": "stdout",
     "output_type": "stream",
     "text": [
      "family_status\n",
      "Не женат / не замужем    1\n",
      "в разводе                1\n",
      "вдовец / вдова           1\n",
      "гражданский брак         1\n",
      "женат / замужем          1\n",
      "Name: family_status_id, dtype: int64\n"
     ]
    }
   ],
   "source": [
    "# а что, если классификаторы family_status и family_status_id разные?\n",
    "# проверим, что каждому семейному статусу family_status соответствует только один family_status_id:\n",
    "print(data.groupby('family_status')['family_status_id'].nunique())"
   ]
  },
  {
   "cell_type": "code",
   "execution_count": 25,
   "id": "0efc68ae",
   "metadata": {
    "deletable": false,
    "id": "dc3f7ee8",
    "scrolled": true
   },
   "outputs": [
    {
     "name": "stdout",
     "output_type": "stream",
     "text": [
      "family_status\n",
      "Не женат / не замужем    [4]\n",
      "в разводе                [3]\n",
      "вдовец / вдова           [2]\n",
      "гражданский брак         [1]\n",
      "женат / замужем          [0]\n",
      "Name: family_status_id, dtype: object\n"
     ]
    }
   ],
   "source": [
    "# выведем названия статусов и коды статусов (как и ожидалось, их по одному в каждой строке)\n",
    "# поэтому можно работать как с family_status, так и с family_status_id - они суть одно и то же\n",
    "print(data.groupby('family_status')['family_status_id'].unique())"
   ]
  },
  {
   "cell_type": "code",
   "execution_count": 31,
   "id": "b70f5069",
   "metadata": {},
   "outputs": [
    {
     "name": "stdout",
     "output_type": "stream",
     "text": [
      "\n",
      "Статусы, с задолженностями и всего\n",
      "Данные для графика - % с задолженностями\n"
     ]
    },
    {
     "data": {
      "text/plain": [
       "Text(0.5, 0, '% с задолженностями')"
      ]
     },
     "execution_count": 31,
     "metadata": {},
     "output_type": "execute_result"
    },
    {
     "data": {
      "image/png": "[encoded data removed]",
      "text/plain": [
       "<Figure size 600x300 with 1 Axes>"
      ]
     },
     "metadata": {},
     "output_type": "display_data"
    }
   ],
   "source": [
    "# сгруппируем данные по семейным статусам и применим к столбцу задолженностей функции суммы и подсчёта\n",
    "aggregated_2 = data.groupby('family_status')['debt'].agg(['sum', 'count'])\n",
    "print('\\nСтатусы, с задолженностями и всего')\n",
    "#display(aggregated_2)\n",
    "\n",
    "# формируем данные для графика в процентах задержавших от общего количества заёмщиков в группах с N-детей\n",
    "graph = round(aggregated_2['sum'] *100 / aggregated_2['count'], 1).sort_values()\n",
    "print('Данные для графика - % с задолженностями')\n",
    "#display(graph)\n",
    "\n",
    "# подписываем график, оси и выводим на экран\n",
    "plt.rcParams['figure.figsize'] = [6, 3]\n",
    "sns.barplot(x=graph.values, y=graph.index)\n",
    "plt.title('Семейный статус и невозврат кредита в срок')\n",
    "plt.ylabel('Семейный статус')\n",
    "plt.xlabel('% с задолженностями')"
   ]
  },
  {
   "cell_type": "markdown",
   "id": "d47959a6",
   "metadata": {},
   "source": [
    "<div class=\"alert alert-success\">\n",
    "<font size=\"5\"><b>Комментарий ревьюера</b></font>\n",
    "\n",
    "Успех: Верно, что ты решил повернуть график. Иначе мы бы имели слишком длинные названия по оси X, которые нагладывались бы друг на друга и их пришлось бы поворачивать.\n",
    "\n",
    "</div>"
   ]
  },
  {
   "cell_type": "markdown",
   "id": "9e153f19",
   "metadata": {},
   "source": [
    "**Анализ:**\n",
    "    Если расположить заёмщиков в порядке их семейных статусов \"в разводе\" - \"вдовец\" - \"женат\" - \"гражданский брак\" - \"не женат\", то первые 3 категории имеют вероятность невозврата в срок около 7%, затем следует скачок, где у 2-х оставшихся категорий этот показатель составляет примерно 9,5%. Разброс между крайними категориями составляет почти 1,5 раза (9.76% против 6.62%)."
   ]
  },
  {
   "cell_type": "markdown",
   "id": "919c6c58",
   "metadata": {
    "deletable": false,
    "id": "1cef7837"
   },
   "source": [
    "**Вывод:** Да, рост вероятности просрочки платежей прослеживается в таком порядке следования семейных статусов: \"в разводе\" - \"вдовец\" - \"женат\" - \"гражданский брак\" - \"не женат\". При этом вдовцы/вдовы - наиболее дисциплинированные плательщики (нарушителей 6.62%), а доля просрочивших платежи у неженатых/незамужних самая высокая - 9.76%. "
   ]
  },
  {
   "cell_type": "markdown",
   "id": "37ee5694",
   "metadata": {},
   "source": [
    "<div class=\"alert alert-success\">\n",
    "<font size=\"5\"><b>Комментарий ревьюера</b></font>\n",
    "\n",
    "Успех: Подумай над причинами получения такого результата. \n",
    "\n",
    "</div>"
   ]
  },
  {
   "cell_type": "code",
   "execution_count": 27,
   "id": "21de99fb",
   "metadata": {},
   "outputs": [],
   "source": [
    "### Похоже, что сквозь семейный статус проглядывают возрастные категории (упрощённо: 60-70, 50-60, 40-50, 30-40, 20-30).\n",
    "### Эта гипотеза выглядит правдоподобно. Больший возраст предполагает меньшую авантюрность поступков, самодисциплину и\n",
    "### умеренность потребления, склонность семь раз отмерить, а потом резать. Молодёжь больше \"учится\": пробует и рискует.\n",
    "### Менее резонная версия, но всё же: банк более пожилым клиентам согласовывает меньшие суммы, и они их легче возвращают."
   ]
  },
  {
   "cell_type": "markdown",
   "id": "3b8b363e",
   "metadata": {
    "deletable": false,
    "editable": false,
    "id": "1e8b2fca"
   },
   "source": [
    "#### 3.3 Есть ли зависимость между уровнем дохода и возвратом кредита в срок?"
   ]
  },
  {
   "cell_type": "code",
   "execution_count": 28,
   "id": "83263833",
   "metadata": {
    "deletable": false,
    "id": "cd7e3720"
   },
   "outputs": [
    {
     "name": "stdout",
     "output_type": "stream",
     "text": [
      "Категории дохода и общ. количества\n"
     ]
    },
    {
     "data": {
      "text/html": [
       "<div>\n",
       "<style scoped>\n",
       "    .dataframe tbody tr th:only-of-type {\n",
       "        vertical-align: middle;\n",
       "    }\n",
       "\n",
       "    .dataframe tbody tr th {\n",
       "        vertical-align: top;\n",
       "    }\n",
       "\n",
       "    .dataframe thead th {\n",
       "        text-align: right;\n",
       "    }\n",
       "</style>\n",
       "<table border=\"1\" class=\"dataframe\">\n",
       "  <thead>\n",
       "    <tr style=\"text-align: right;\">\n",
       "      <th></th>\n",
       "      <th>sum</th>\n",
       "      <th>count</th>\n",
       "    </tr>\n",
       "    <tr>\n",
       "      <th>total_income_category</th>\n",
       "      <th></th>\n",
       "      <th></th>\n",
       "    </tr>\n",
       "  </thead>\n",
       "  <tbody>\n",
       "    <tr>\n",
       "      <th>A</th>\n",
       "      <td>2</td>\n",
       "      <td>25</td>\n",
       "    </tr>\n",
       "    <tr>\n",
       "      <th>B</th>\n",
       "      <td>354</td>\n",
       "      <td>5014</td>\n",
       "    </tr>\n",
       "    <tr>\n",
       "      <th>C</th>\n",
       "      <td>1353</td>\n",
       "      <td>15921</td>\n",
       "    </tr>\n",
       "    <tr>\n",
       "      <th>D</th>\n",
       "      <td>21</td>\n",
       "      <td>349</td>\n",
       "    </tr>\n",
       "    <tr>\n",
       "      <th>E</th>\n",
       "      <td>2</td>\n",
       "      <td>22</td>\n",
       "    </tr>\n",
       "  </tbody>\n",
       "</table>\n",
       "</div>"
      ],
      "text/plain": [
       "                        sum  count\n",
       "total_income_category             \n",
       "A                         2     25\n",
       "B                       354   5014\n",
       "C                      1353  15921\n",
       "D                        21    349\n",
       "E                         2     22"
      ]
     },
     "metadata": {},
     "output_type": "display_data"
    },
    {
     "name": "stdout",
     "output_type": "stream",
     "text": [
      "Данные графика в таблице\n"
     ]
    },
    {
     "data": {
      "text/plain": [
       "1000001 и выше    8.00\n",
       "200001–1000000    7.06\n",
       "50001–200000      8.50\n",
       "30001–50000       6.02\n",
       "0–30000           9.09\n",
       "dtype: float64"
      ]
     },
     "metadata": {},
     "output_type": "display_data"
    },
    {
     "data": {
      "text/plain": [
       "Text(0.5, 0, '% задерживающих выплаты')"
      ]
     },
     "execution_count": 28,
     "metadata": {},
     "output_type": "execute_result"
    },
    {
     "data": {
      "image/png": "[encoded data removed]",
      "text/plain": [
       "<Figure size 600x300 with 1 Axes>"
      ]
     },
     "metadata": {},
     "output_type": "display_data"
    }
   ],
   "source": [
    "# группируем данные по категориям доходов и применяем к столбцу задолженностей функции суммирования и подсчёта:\n",
    "aggregated_3 = data.groupby('total_income_category')['debt'].agg(['sum', 'count'])\n",
    "print(\"Категории дохода и общ. количества\")\n",
    "display(aggregated_3)\n",
    "\n",
    "# формируем данные для графика в процентах задержавших от общего количества заёмщиков по группам с ранжированными доходами:\n",
    "g = round(aggregated_3['sum'] *100 / aggregated_3['count'], 2)\n",
    "graph = pd.Series(data=g.values, index=['1000001 и выше', '200001–1000000', '50001–200000', '30001–50000', '0–30000'])\n",
    "\n",
    "print(\"Данные графика в таблице\")\n",
    "display(graph)\n",
    "\n",
    "# подписываем график, оси и выводим на экран\n",
    "plt.rcParams['figure.figsize'] = [6, 3]\n",
    "sns.barplot(x=graph.values, y=graph.index)\n",
    "plt.title('Зависимость \"доход - возврат кредита в срок\"')\n",
    "plt.ylabel('Доходы')\n",
    "plt.xlabel('% задерживающих выплаты')"
   ]
  },
  {
   "cell_type": "code",
   "execution_count": 29,
   "id": "e1590347",
   "metadata": {},
   "outputs": [
    {
     "name": "stdout",
     "output_type": "stream",
     "text": [
      "Интервалы ['1000001 и выше', '200001–1000000', '50001–200000', '30001–50000', '0–30000']\n",
      "% нарушителей [8.0, 7.06, 8.5, 6.02, 9.09]\n",
      "Количество нарушителей [2, 354, 1353, 21, 2]\n"
     ]
    },
    {
     "data": {
      "image/png": "[encoded data removed]",
      "text/plain": [
       "<Figure size 600x300 with 1 Axes>"
      ]
     },
     "metadata": {},
     "output_type": "display_data"
    }
   ],
   "source": [
    "### Здесь мы воспроизведём результаты предыдущей ячейки с новым графиком и pivot_table()\n",
    "### Отображать будем \"шарами\", диаметры которых соотнесём с количеством нарушителей\n",
    "### \n",
    "### По всем ли категориям достаточно данных? \n",
    "### Есть ли зависимость между уровнем дохода и возвратом кредита в срок? - версия 2\n",
    "\n",
    "### создадим сводную таблицу: возьмём 2 колонки и аггрегируем средние и суммы\n",
    "pvt = pd.pivot_table(data[['total_income_category', 'debt']],\n",
    "                    index=['total_income_category'],\n",
    "                    values=['debt'],\n",
    "                    aggfunc=[np.mean, sum])\n",
    "#display(pvt)\n",
    "\n",
    "### подготовим столбцы сводной таблицы для графика, добавим явные названия категорий\n",
    "a1 = ['1000001 и выше', '200001–1000000', '50001–200000', '30001–50000', '0–30000']\n",
    "a2 = list(pvt['mean']['debt'].round(4)*100)\n",
    "a3 = list(pvt['sum']['debt'])\n",
    "print('Интервалы', a1)\n",
    "print('% нарушителей', a2)\n",
    "print('Количество нарушителей', a3)\n",
    "\n",
    "### зададим размер графика [горизонт, вертикаль]\n",
    "plt.rcParams['figure.figsize'] = [6, 3]\n",
    "\n",
    "### сформируем график, передадим ему списки как аргументы: 2 на оси и 1 на размер пузырей, параметр\n",
    "### sizes=(20, 4000) подбираем вручную, чтобы маленькие пузыри были заметны, а большие не были огромными\n",
    "sns.scatterplot(x=a2, y=a1, size=a3, legend=False, sizes=(20, 4000))\n",
    "\n",
    "plt.title('Доходы, % нарушителей и объём данных')\n",
    "plt.ylabel('Доходы (интервалы)')\n",
    "plt.xlabel('% нарушителей')\n",
    "\n",
    "# выводим график на экран (в Jupyther не обязательно)\n",
    "plt.show()"
   ]
  },
  {
   "cell_type": "markdown",
   "id": "2ed5c38e",
   "metadata": {},
   "source": [
    "<div class=\"alert alert-warning\">\n",
    "<font size=\"5\"><b>Комментарий ревьюера</b></font>\n",
    "\n",
    "Совет: Таблицы на печать выводи с помощью метода display. print переводит данные в строку, а нам этого не надо. \n",
    "\n",
    "</div>"
   ]
  },
  {
   "cell_type": "markdown",
   "id": "4ba6309a",
   "metadata": {
    "deletable": false,
    "id": "e8593def"
   },
   "source": [
    "**Вывод:** При снижении доходов доля нарушающих сроки выплат изменяется немонотонно, выраженной закономерности не наблюдается. В общей выборке количество заёмщиков с особо большими доходами, равно как и с особо малыми, очень мало́ (22-25 против общего количсетва в ~21000, а количество просрочивших - вообще по 2), т.е. их цифры не показательны. Можно предположить, что размер кредита для разных категорий доходов устанавливается банком так, чтобы свести риски (доля нарушителей внутри своей группы) к \"оптимальному\" уровню, вокруг которого колеблются реальные показатели. "
   ]
  },
  {
   "cell_type": "markdown",
   "id": "0c64d537",
   "metadata": {},
   "source": [
    "<div class=\"alert alert-success\">\n",
    "<font size=\"5\"><b>Комментарий ревьюера</b></font>\n",
    "  \n",
    "Совет: Круто, что ты знаешь о методе agg. В него также можно передать mean для нахождения доли должников в каждой из групп. \n",
    "\n",
    "</div>"
   ]
  },
  {
   "cell_type": "markdown",
   "id": "fa62f84a",
   "metadata": {
    "deletable": false,
    "editable": false,
    "id": "99ecbd1f"
   },
   "source": [
    "#### 3.4 Как разные цели кредита влияют на его возврат в срок?"
   ]
  },
  {
   "cell_type": "code",
   "execution_count": 30,
   "id": "290edbde",
   "metadata": {
    "deletable": false,
    "id": "2b687290"
   },
   "outputs": [
    {
     "name": "stdout",
     "output_type": "stream",
     "text": [
      "Цели, просрочки и общ. количества\n"
     ]
    },
    {
     "data": {
      "text/html": [
       "<div>\n",
       "<style scoped>\n",
       "    .dataframe tbody tr th:only-of-type {\n",
       "        vertical-align: middle;\n",
       "    }\n",
       "\n",
       "    .dataframe tbody tr th {\n",
       "        vertical-align: top;\n",
       "    }\n",
       "\n",
       "    .dataframe thead th {\n",
       "        text-align: right;\n",
       "    }\n",
       "</style>\n",
       "<table border=\"1\" class=\"dataframe\">\n",
       "  <thead>\n",
       "    <tr style=\"text-align: right;\">\n",
       "      <th></th>\n",
       "      <th>sum</th>\n",
       "      <th>count</th>\n",
       "    </tr>\n",
       "    <tr>\n",
       "      <th>purpose_category</th>\n",
       "      <th></th>\n",
       "      <th></th>\n",
       "    </tr>\n",
       "  </thead>\n",
       "  <tbody>\n",
       "    <tr>\n",
       "      <th>операции с автомобилем</th>\n",
       "      <td>400</td>\n",
       "      <td>4279</td>\n",
       "    </tr>\n",
       "    <tr>\n",
       "      <th>операции с недвижимостью</th>\n",
       "      <td>780</td>\n",
       "      <td>10751</td>\n",
       "    </tr>\n",
       "    <tr>\n",
       "      <th>получение образования</th>\n",
       "      <td>369</td>\n",
       "      <td>3988</td>\n",
       "    </tr>\n",
       "    <tr>\n",
       "      <th>проведение свадьбы</th>\n",
       "      <td>183</td>\n",
       "      <td>2313</td>\n",
       "    </tr>\n",
       "  </tbody>\n",
       "</table>\n",
       "</div>"
      ],
      "text/plain": [
       "                          sum  count\n",
       "purpose_category                    \n",
       "операции с автомобилем    400   4279\n",
       "операции с недвижимостью  780  10751\n",
       "получение образования     369   3988\n",
       "проведение свадьбы        183   2313"
      ]
     },
     "metadata": {},
     "output_type": "display_data"
    },
    {
     "name": "stdout",
     "output_type": "stream",
     "text": [
      "\n",
      "Данные в таблице\n"
     ]
    },
    {
     "data": {
      "text/plain": [
       "purpose_category\n",
       "операции с недвижимостью    7.26\n",
       "проведение свадьбы          7.91\n",
       "получение образования       9.25\n",
       "операции с автомобилем      9.35\n",
       "dtype: float64"
      ]
     },
     "metadata": {},
     "output_type": "display_data"
    },
    {
     "data": {
      "text/plain": [
       "Text(0.5, 0, '% задерживающих выплаты')"
      ]
     },
     "execution_count": 30,
     "metadata": {},
     "output_type": "execute_result"
    },
    {
     "data": {
      "image/png": "[encoded data removed]",
      "text/plain": [
       "<Figure size 600x300 with 1 Axes>"
      ]
     },
     "metadata": {},
     "output_type": "display_data"
    }
   ],
   "source": [
    "# группируем данные по целям получения кредита и применяем к столбцу задолженностей функции суммирования и подсчёта:\n",
    "aggregated_4 = data.groupby('purpose_category')['debt'].agg(['sum', 'count'])\n",
    "print(\"Цели, просрочки и общ. количества\")\n",
    "display(aggregated_4)\n",
    "\n",
    "# формируем данные для графика в процентах задержавших от общего количества заёмщиков по целям кредитования:\n",
    "graph = round(aggregated_4['sum'] *100 / aggregated_4['count'], 2).sort_values()\n",
    "\n",
    "print(\"\\nДанные в таблице\")\n",
    "display(graph)\n",
    "\n",
    "# подписываем график, оси и выводим на экран\n",
    "sns.barplot(x=graph.values, y=graph.index)\n",
    "plt.title('Зависимость \"цель - возврат кредита в срок\"')\n",
    "plt.ylabel('Цели кредитования')\n",
    "plt.xlabel('% задерживающих выплаты')"
   ]
  },
  {
   "cell_type": "markdown",
   "id": "fad8a2dc",
   "metadata": {
    "deletable": false,
    "id": "b4bb2ce6"
   },
   "source": [
    "**Вывод:** Доля нарушений в выплатах по кредитам в зависимости от цели кредитования растёт в следующем порядке: \"недвижимость\" - свадьба\" - \"учёба\" - \"автомобиль\". Получившие кредит на операции с недвижимостью платят наиболее исправно (показатель риска 7.26%), а вот взявшие кредит для обучения и на автомобиль платят хуже остальных - их показатели 9.25% и 9.35% соответственно. Брачующиеся с их 7.91% находятся в середине списка."
   ]
  },
  {
   "cell_type": "markdown",
   "id": "9d66dd48",
   "metadata": {},
   "source": [
    "<div class=\"alert alert-danger\">\n",
    "<font size=\"5\"><b>Комментарий ревьюера</b></font>\n",
    "\n",
    "Ошибка: На данном шаге рекомендуется использовать метод сводных таблиц (pivot_table()). Однако он является аналогом метода groupby(). Изучи метод сводных таблиц и примени его хотя бы в одном пункте анализа.\n",
    "\n",
    "</div>"
   ]
  },
  {
   "cell_type": "markdown",
   "id": "71ecb60e",
   "metadata": {
    "deletable": false,
    "editable": false,
    "id": "09c3ac4c"
   },
   "source": [
    "#### 3.5 Приведите возможные причины появления пропусков в исходных данных."
   ]
  },
  {
   "cell_type": "markdown",
   "id": "0e221a89",
   "metadata": {
    "deletable": false,
    "id": "9da2ceda"
   },
   "source": [
    "*Ответ:* Судя по тому, что в колонках days_employed и total_income одинаковое количество пропусков (по 2174), причина в обоих случаях одна и та же. Имеет смысл посмотреть в алгоритмах получения/расчёта данных по этим колонкам, и искать среди причин, которые могли повлиять одновременно на обе эти колонки, но не затронуть остальные. \n",
    "\n",
    "Возможно, данные лежат в разных excel файлах в разных листах, если где-то есть лист с 2174-мя строками - может быть с него не прочитались данные в общую базу. Маловероятно, что данные по этим колонкам где-то были связаны общими формулами, и падение в одной колонке привело к \"математическому\" падению в другой, разве что их как-то пытались неуклюже форматировать по общему правилу."
   ]
  },
  {
   "cell_type": "markdown",
   "id": "dbb6b6b7",
   "metadata": {
    "deletable": false,
    "editable": false,
    "id": "7b0487d6"
   },
   "source": [
    "#### 3.6 Объясните, почему заполнить пропуски медианным значением — лучшее решение для количественных переменных."
   ]
  },
  {
   "cell_type": "markdown",
   "id": "930fb5df",
   "metadata": {
    "deletable": false,
    "id": "7ecf2b8e"
   },
   "source": [
    "*Ответ:* Если выбирать между средним и медианой, то медиана \"застрахована\" от выбросов, и напротив: несколько выбросов с большим абсолютным значением могут \"утянуть\" среднее далеко вправо от медианы. Иными словами - медиана \"более средняя\", чем среднее арифметическое. \n",
    "\n",
    "При необходимости заполнить пропуски с наибольшей точностью лучше посмотреть на распределение вероятностей по непропущенным величинам (возможно, и в других схожих выборках тоже), и тогда уже - в предположении, что отсутствуюшие данные распределены так же - решать, как заполнять пропуски (не обязательно заполнять всё одним значением, будь то медиана или среднее, это может быть некая генерирующая функция)."
   ]
  },
  {
   "cell_type": "markdown",
   "id": "ca5019a2",
   "metadata": {},
   "source": [
    "<div class=\"alert alert-success\">\n",
    "<font size=\"5\"><b>Комментарий ревьюера</b></font>\n",
    "\n",
    "Успех: Да, все верно. \n",
    "\n",
    "</div>"
   ]
  },
  {
   "cell_type": "markdown",
   "id": "b0d5d830",
   "metadata": {
    "deletable": false,
    "editable": false,
    "id": "6db5255a"
   },
   "source": [
    "### Шаг 4: общий вывод."
   ]
  },
  {
   "cell_type": "markdown",
   "id": "17ac82a7",
   "metadata": {
    "deletable": false,
    "id": "bad65432"
   },
   "source": [
    "Исследование показало наличие закономерностей в случаях с категориальными данными: цели кредита, семейный статус. При группировке клиентов по количеству детей или по уровню дохода явной связи с вероятностью просрочки по кредиту обнаружено не было.\n",
    "\n",
    "В случае предоставления данных по суммам кредитов и алгоритму заполнения поля debt (время, сумма просрочки) выводы могли бы быть более полными. "
   ]
  },
  {
   "cell_type": "markdown",
   "id": "64fa6d25",
   "metadata": {},
   "source": [
    "<div class=\"alert alert-success\">\n",
    "<font size=\"5\"><b>Комментарий ревьюера</b></font>\n",
    "\n",
    "Успех: Выводы сделаны. Приведены ответы на главные вопросы проекта. В выводах можно приводить полученные ранее значения. Также можно расписать все, что было сделано в ходе проведения работы. \n",
    "\n",
    "</div>"
   ]
  },
  {
   "cell_type": "markdown",
   "id": "045baa35",
   "metadata": {},
   "source": [
    "<div class=\"alert alert-info\">\n",
    "<font size=\"5\"><b>Комментарий ревьюера</b></font>\n",
    "\n",
    "Если тебе нравится тема визуализации, то можешь изучить другие методы библиотеки seaborn. Она позволяет строить довольно презентабельные графики. Рекомендую ресурс https://www.python-graph-gallery.com/. В нем содержится большая библиотека графиков с готовым кодом, который можно использовать при работе.\n",
    "\n",
    "Ты проделал большую работу, молодец! Ты овладел важными на данном этапе обучения инструментами, а также довольно качественно их используешь. Критических замечаний немного. Мне важно лишь убедиться в том, что метод сводных таблиц тобой освоен. Жду твою работу :)\n",
    "\n",
    "</div>"
   ]
  }
 ],
 "metadata": {
  "ExecuteTimeLog": [
   {
    "duration": 1037,
    "start_time": "2022-11-18T15:12:20.834Z"
   },
   {
    "duration": 22,
    "start_time": "2022-11-18T15:12:21.873Z"
   },
   {
    "duration": 14,
    "start_time": "2022-11-18T15:12:21.896Z"
   },
   {
    "duration": 20,
    "start_time": "2022-11-18T15:12:21.912Z"
   },
   {
    "duration": 35,
    "start_time": "2022-11-18T15:12:21.934Z"
   },
   {
    "duration": 4,
    "start_time": "2022-11-18T15:12:21.970Z"
   },
   {
    "duration": 17,
    "start_time": "2022-11-18T15:12:21.975Z"
   },
   {
    "duration": 9,
    "start_time": "2022-11-18T15:12:21.994Z"
   },
   {
    "duration": 30,
    "start_time": "2022-11-18T15:12:22.004Z"
   },
   {
    "duration": 12,
    "start_time": "2022-11-18T15:12:22.035Z"
   },
   {
    "duration": 46,
    "start_time": "2022-11-18T15:12:22.048Z"
   },
   {
    "duration": 10,
    "start_time": "2022-11-18T15:12:22.096Z"
   },
   {
    "duration": 8,
    "start_time": "2022-11-18T15:12:22.107Z"
   },
   {
    "duration": 12,
    "start_time": "2022-11-18T15:12:22.118Z"
   },
   {
    "duration": 31,
    "start_time": "2022-11-18T15:12:22.132Z"
   },
   {
    "duration": 19,
    "start_time": "2022-11-18T15:12:22.165Z"
   },
   {
    "duration": 4,
    "start_time": "2022-11-18T15:12:22.185Z"
   },
   {
    "duration": 19,
    "start_time": "2022-11-18T15:12:22.190Z"
   },
   {
    "duration": 15,
    "start_time": "2022-11-18T15:12:22.211Z"
   },
   {
    "duration": 23,
    "start_time": "2022-11-18T15:12:22.228Z"
   },
   {
    "duration": 40,
    "start_time": "2022-11-18T15:12:22.253Z"
   },
   {
    "duration": 978,
    "start_time": "2022-11-18T15:12:22.295Z"
   },
   {
    "duration": 165,
    "start_time": "2022-11-18T15:12:23.275Z"
   },
   {
    "duration": 3,
    "start_time": "2022-11-18T15:12:23.442Z"
   },
   {
    "duration": 34,
    "start_time": "2022-11-18T15:12:23.447Z"
   },
   {
    "duration": 11,
    "start_time": "2022-11-18T15:12:23.483Z"
   },
   {
    "duration": 17,
    "start_time": "2022-11-18T15:12:23.496Z"
   },
   {
    "duration": 8,
    "start_time": "2022-11-18T15:15:36.290Z"
   },
   {
    "duration": 8,
    "start_time": "2022-11-18T15:15:51.597Z"
   },
   {
    "duration": 41,
    "start_time": "2022-11-18T15:17:50.509Z"
   },
   {
    "duration": 150,
    "start_time": "2022-11-18T15:19:30.028Z"
   },
   {
    "duration": 134,
    "start_time": "2022-11-18T15:20:36.284Z"
   },
   {
    "duration": 127,
    "start_time": "2022-11-18T15:23:02.978Z"
   },
   {
    "duration": 147,
    "start_time": "2022-11-18T15:23:55.924Z"
   },
   {
    "duration": 428,
    "start_time": "2022-11-18T15:26:14.473Z"
   },
   {
    "duration": 22,
    "start_time": "2022-11-18T15:26:14.903Z"
   },
   {
    "duration": 16,
    "start_time": "2022-11-18T15:26:14.927Z"
   },
   {
    "duration": 11,
    "start_time": "2022-11-18T15:26:14.945Z"
   },
   {
    "duration": 31,
    "start_time": "2022-11-18T15:26:14.957Z"
   },
   {
    "duration": 4,
    "start_time": "2022-11-18T15:26:14.989Z"
   },
   {
    "duration": 19,
    "start_time": "2022-11-18T15:26:14.994Z"
   },
   {
    "duration": 20,
    "start_time": "2022-11-18T15:26:15.015Z"
   },
   {
    "duration": 12,
    "start_time": "2022-11-18T15:26:15.036Z"
   },
   {
    "duration": 4,
    "start_time": "2022-11-18T15:26:15.049Z"
   },
   {
    "duration": 33,
    "start_time": "2022-11-18T15:26:15.055Z"
   },
   {
    "duration": 10,
    "start_time": "2022-11-18T15:26:15.089Z"
   },
   {
    "duration": 6,
    "start_time": "2022-11-18T15:26:15.100Z"
   },
   {
    "duration": 30,
    "start_time": "2022-11-18T15:26:15.108Z"
   },
   {
    "duration": 22,
    "start_time": "2022-11-18T15:26:15.140Z"
   },
   {
    "duration": 15,
    "start_time": "2022-11-18T15:26:15.164Z"
   },
   {
    "duration": 3,
    "start_time": "2022-11-18T15:26:15.181Z"
   },
   {
    "duration": 14,
    "start_time": "2022-11-18T15:26:15.185Z"
   },
   {
    "duration": 6,
    "start_time": "2022-11-18T15:26:15.200Z"
   },
   {
    "duration": 4,
    "start_time": "2022-11-18T15:26:15.207Z"
   },
   {
    "duration": 25,
    "start_time": "2022-11-18T15:26:15.213Z"
   },
   {
    "duration": 754,
    "start_time": "2022-11-18T15:26:15.239Z"
   },
   {
    "duration": 171,
    "start_time": "2022-11-18T15:26:15.995Z"
   },
   {
    "duration": 8,
    "start_time": "2022-11-18T15:26:16.168Z"
   },
   {
    "duration": 13,
    "start_time": "2022-11-18T15:26:16.178Z"
   },
   {
    "duration": 175,
    "start_time": "2022-11-18T15:26:16.193Z"
   },
   {
    "duration": 136,
    "start_time": "2022-11-18T15:26:16.370Z"
   },
   {
    "duration": 147,
    "start_time": "2022-11-18T15:26:16.507Z"
   },
   {
    "duration": 513,
    "start_time": "2022-11-18T15:33:36.414Z"
   },
   {
    "duration": 23,
    "start_time": "2022-11-18T15:33:36.929Z"
   },
   {
    "duration": 47,
    "start_time": "2022-11-18T15:33:36.953Z"
   },
   {
    "duration": 49,
    "start_time": "2022-11-18T15:33:37.002Z"
   },
   {
    "duration": 63,
    "start_time": "2022-11-18T15:33:37.054Z"
   },
   {
    "duration": 4,
    "start_time": "2022-11-18T15:33:37.118Z"
   },
   {
    "duration": 45,
    "start_time": "2022-11-18T15:33:37.124Z"
   },
   {
    "duration": 42,
    "start_time": "2022-11-18T15:33:37.171Z"
   },
   {
    "duration": 38,
    "start_time": "2022-11-18T15:33:37.214Z"
   },
   {
    "duration": 43,
    "start_time": "2022-11-18T15:33:37.254Z"
   },
   {
    "duration": 62,
    "start_time": "2022-11-18T15:33:37.299Z"
   },
   {
    "duration": 12,
    "start_time": "2022-11-18T15:33:37.363Z"
   },
   {
    "duration": 37,
    "start_time": "2022-11-18T15:33:37.377Z"
   },
   {
    "duration": 41,
    "start_time": "2022-11-18T15:33:37.417Z"
   },
   {
    "duration": 73,
    "start_time": "2022-11-18T15:33:37.460Z"
   },
   {
    "duration": 59,
    "start_time": "2022-11-18T15:33:37.534Z"
   },
   {
    "duration": 14,
    "start_time": "2022-11-18T15:33:37.595Z"
   },
   {
    "duration": 30,
    "start_time": "2022-11-18T15:33:37.611Z"
   },
   {
    "duration": 13,
    "start_time": "2022-11-18T15:33:37.642Z"
   },
   {
    "duration": 25,
    "start_time": "2022-11-18T15:33:37.656Z"
   },
   {
    "duration": 24,
    "start_time": "2022-11-18T15:33:37.682Z"
   },
   {
    "duration": 744,
    "start_time": "2022-11-18T15:33:37.708Z"
   },
   {
    "duration": 154,
    "start_time": "2022-11-18T15:33:38.453Z"
   },
   {
    "duration": 9,
    "start_time": "2022-11-18T15:33:38.609Z"
   },
   {
    "duration": 41,
    "start_time": "2022-11-18T15:33:38.620Z"
   },
   {
    "duration": 168,
    "start_time": "2022-11-18T15:33:38.663Z"
   },
   {
    "duration": 140,
    "start_time": "2022-11-18T15:33:38.836Z"
   },
   {
    "duration": 143,
    "start_time": "2022-11-18T15:33:38.978Z"
   },
   {
    "duration": 1311,
    "start_time": "2022-11-18T21:17:20.358Z"
   },
   {
    "duration": 20,
    "start_time": "2022-11-18T21:17:21.671Z"
   },
   {
    "duration": 14,
    "start_time": "2022-11-18T21:17:21.692Z"
   },
   {
    "duration": 8,
    "start_time": "2022-11-18T21:17:21.708Z"
   },
   {
    "duration": 31,
    "start_time": "2022-11-18T21:17:21.719Z"
   },
   {
    "duration": 4,
    "start_time": "2022-11-18T21:17:21.751Z"
   },
   {
    "duration": 9,
    "start_time": "2022-11-18T21:17:21.757Z"
   },
   {
    "duration": 4,
    "start_time": "2022-11-18T21:17:21.767Z"
   },
   {
    "duration": 7,
    "start_time": "2022-11-18T21:17:21.773Z"
   },
   {
    "duration": 34,
    "start_time": "2022-11-18T21:17:21.781Z"
   },
   {
    "duration": 31,
    "start_time": "2022-11-18T21:17:21.817Z"
   },
   {
    "duration": 9,
    "start_time": "2022-11-18T21:17:21.850Z"
   },
   {
    "duration": 3,
    "start_time": "2022-11-18T21:17:21.861Z"
   },
   {
    "duration": 10,
    "start_time": "2022-11-18T21:17:21.867Z"
   },
   {
    "duration": 49,
    "start_time": "2022-11-18T21:17:21.878Z"
   },
   {
    "duration": 15,
    "start_time": "2022-11-18T21:17:21.928Z"
   },
   {
    "duration": 3,
    "start_time": "2022-11-18T21:17:21.945Z"
   },
   {
    "duration": 12,
    "start_time": "2022-11-18T21:17:21.949Z"
   },
   {
    "duration": 5,
    "start_time": "2022-11-18T21:17:21.963Z"
   },
   {
    "duration": 6,
    "start_time": "2022-11-18T21:17:21.969Z"
   },
   {
    "duration": 11,
    "start_time": "2022-11-18T21:17:21.977Z"
   },
   {
    "duration": 2,
    "start_time": "2022-11-18T21:17:21.990Z"
   },
   {
    "duration": 140,
    "start_time": "2022-11-18T21:17:22.013Z"
   },
   {
    "duration": 6,
    "start_time": "2022-11-18T21:17:22.155Z"
   },
   {
    "duration": 15,
    "start_time": "2022-11-18T21:17:22.163Z"
   },
   {
    "duration": 150,
    "start_time": "2022-11-18T21:17:22.179Z"
   },
   {
    "duration": 133,
    "start_time": "2022-11-18T21:17:22.331Z"
   },
   {
    "duration": 129,
    "start_time": "2022-11-18T21:17:22.466Z"
   },
   {
    "duration": 135,
    "start_time": "2022-11-18T21:21:22.843Z"
   },
   {
    "duration": 125,
    "start_time": "2022-11-18T21:22:06.593Z"
   },
   {
    "duration": 131,
    "start_time": "2022-11-18T21:23:04.727Z"
   },
   {
    "duration": 140,
    "start_time": "2022-11-18T21:23:54.151Z"
   },
   {
    "duration": 135,
    "start_time": "2022-11-18T21:24:23.823Z"
   },
   {
    "duration": 198,
    "start_time": "2022-11-18T21:25:25.598Z"
   },
   {
    "duration": 138,
    "start_time": "2022-11-18T21:25:37.150Z"
   },
   {
    "duration": 132,
    "start_time": "2022-11-18T21:26:02.775Z"
   },
   {
    "duration": 139,
    "start_time": "2022-11-18T21:47:49.616Z"
   },
   {
    "duration": 1635,
    "start_time": "2022-11-19T08:12:44.578Z"
   },
   {
    "duration": 19,
    "start_time": "2022-11-19T08:12:46.215Z"
   },
   {
    "duration": 16,
    "start_time": "2022-11-19T08:12:46.235Z"
   },
   {
    "duration": 10,
    "start_time": "2022-11-19T08:12:46.253Z"
   },
   {
    "duration": 45,
    "start_time": "2022-11-19T08:12:46.264Z"
   },
   {
    "duration": 4,
    "start_time": "2022-11-19T08:12:46.310Z"
   },
   {
    "duration": 10,
    "start_time": "2022-11-19T08:12:46.316Z"
   },
   {
    "duration": 5,
    "start_time": "2022-11-19T08:12:46.327Z"
   },
   {
    "duration": 7,
    "start_time": "2022-11-19T08:12:46.334Z"
   },
   {
    "duration": 4,
    "start_time": "2022-11-19T08:12:46.344Z"
   },
   {
    "duration": 72,
    "start_time": "2022-11-19T08:12:46.350Z"
   },
   {
    "duration": 10,
    "start_time": "2022-11-19T08:12:46.424Z"
   },
   {
    "duration": 7,
    "start_time": "2022-11-19T08:12:46.436Z"
   },
   {
    "duration": 15,
    "start_time": "2022-11-19T08:12:46.445Z"
   },
   {
    "duration": 37,
    "start_time": "2022-11-19T08:12:46.462Z"
   },
   {
    "duration": 19,
    "start_time": "2022-11-19T08:12:46.501Z"
   },
   {
    "duration": 3,
    "start_time": "2022-11-19T08:12:46.522Z"
   },
   {
    "duration": 12,
    "start_time": "2022-11-19T08:12:46.527Z"
   },
   {
    "duration": 8,
    "start_time": "2022-11-19T08:12:46.540Z"
   },
   {
    "duration": 3,
    "start_time": "2022-11-19T08:12:46.550Z"
   },
   {
    "duration": 14,
    "start_time": "2022-11-19T08:12:46.555Z"
   },
   {
    "duration": 26,
    "start_time": "2022-11-19T08:12:46.571Z"
   },
   {
    "duration": 171,
    "start_time": "2022-11-19T08:12:46.600Z"
   },
   {
    "duration": 8,
    "start_time": "2022-11-19T08:12:46.773Z"
   },
   {
    "duration": 20,
    "start_time": "2022-11-19T08:12:46.783Z"
   },
   {
    "duration": 186,
    "start_time": "2022-11-19T08:12:46.805Z"
   },
   {
    "duration": 3,
    "start_time": "2022-11-19T08:12:46.995Z"
   },
   {
    "duration": 177,
    "start_time": "2022-11-19T08:12:47.002Z"
   },
   {
    "duration": 167,
    "start_time": "2022-11-19T08:12:47.180Z"
   }
  ],
  "colab": {
   "name": "dpp_template_part2.ipynb",
   "provenance": []
  },
  "kernelspec": {
   "display_name": "Python 3 (ipykernel)",
   "language": "python",
   "name": "python3"
  },
  "language_info": {
   "codemirror_mode": {
    "name": "ipython",
    "version": 3
   },
   "file_extension": ".py",
   "mimetype": "text/x-python",
   "name": "python",
   "nbconvert_exporter": "python",
   "pygments_lexer": "ipython3",
   "version": "3.9.13"
  },
  "toc": {
   "base_numbering": 1,
   "nav_menu": {},
   "number_sections": true,
   "sideBar": true,
   "skip_h1_title": true,
   "title_cell": "Table of Contents",
   "title_sidebar": "Contents",
   "toc_cell": false,
   "toc_position": {},
   "toc_section_display": true,
   "toc_window_display": false
  }
 },
 "nbformat": 4,
 "nbformat_minor": 5
}
